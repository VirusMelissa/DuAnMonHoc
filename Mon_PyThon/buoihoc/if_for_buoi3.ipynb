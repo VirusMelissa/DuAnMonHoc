{
 "cells": [
  {
   "cell_type": "code",
   "execution_count": null,
   "id": "fefdc687",
   "metadata": {},
   "outputs": [],
   "source": [
    "from IPython.core.display import HTML\n",
    "HTML(\"\"\"\n",
    "<style>\n",
    ".rendered_html p \n",
    "{\n",
    "    font-size: 20px;\n",
    "}\n",
    "</style>\n",
    "\"\"\")"
   ]
  },
  {
   "cell_type": "markdown",
   "id": "701a7f45",
   "metadata": {},
   "source": [
    "# IF (Cấu trúc rẻ nhánh)"
   ]
  },
  {
   "cell_type": "markdown",
   "id": "c2bae816",
   "metadata": {},
   "source": [
    "Cú pháp if – elif – else<br>\n",
    "if <biểu thức điều kiện #1> :<br>\n",
    "&nbsp;&nbsp;&nbsp;&nbsp;&nbsp;<Lệnh hoặc khối lệnh><br>\n",
    "elif <biểu thức điều kiện #2> :<br>\n",
    "&nbsp;&nbsp;&nbsp;&nbsp;&nbsp;<Lệnh hoặc khối lệnh><br>\n",
    "elif <biểu thức điều kiện #3> :<br>\n",
    "&nbsp;&nbsp;&nbsp;&nbsp;&nbsp;<Lệnh hoặc khối lệnh><br>\n",
    "............<br>\n",
    "&nbsp;&nbsp;&nbsp;&nbsp;&nbsp;............<br>\n",
    "else :<br>\n",
    "&nbsp;&nbsp;&nbsp;&nbsp;&nbsp;<Lệnh hoặc khối lệnh>"
   ]
  },
  {
   "cell_type": "code",
   "execution_count": null,
   "id": "986382b6",
   "metadata": {},
   "outputs": [],
   "source": [
    "#viết nhiều nhánh\n",
    "GPA = 3.5\n",
    "if GPA >= 9 and GPA <=10:\n",
    "    print(\"Xuất sắc\")\n",
    "elif GPA >= 8 and GPA < 9:\n",
    "    print(\"Giỏi\")\n",
    "elif GPA >= 6.5 and GPA < 8:\n",
    "    print(\"Khá\")\n",
    "elif GPA >= 5 and GPA < 6.5:\n",
    "    print(\"Trung bình\")\n",
    "elif GPA >= 3.5 and GPA < 5:\n",
    "    print(\"Yếu\")\n",
    "else:\n",
    "    print(\"Kém\")"
   ]
  },
  {
   "cell_type": "code",
   "execution_count": null,
   "id": "f63d3528",
   "metadata": {},
   "outputs": [],
   "source": [
    "#viết 1 nhánh\n",
    "DTB = 5\n",
    "if DTB >= 9 and DTB <=10:\n",
    "    print(\"Xuất sắc\")\n",
    "    \n",
    "if DTB >= 8 and DTB < 9:\n",
    "    print(\"Giỏi\")\n",
    "    \n",
    "if DTB >= 6.5 and DTB < 8:\n",
    "    print(\"Khá\")\n",
    "    \n",
    "if DTB >= 5 and DTB < 6.5:\n",
    "    print(\"Trung bình\")\n",
    "    \n",
    "if DTB >= 3.5 and DTB < 5:\n",
    "    print(\"Yếu\")\n",
    "\n",
    "if DTB < 3.5:\n",
    "    print(\"Kém\")"
   ]
  },
  {
   "cell_type": "markdown",
   "id": "b90074f7",
   "metadata": {},
   "source": [
    "# <span style=\"color:red;\">Bài Tập</span>"
   ]
  },
  {
   "cell_type": "markdown",
   "id": "15b17255",
   "metadata": {},
   "source": [
    "Trò chơi búa kéo bao     "
   ]
  },
  {
   "cell_type": "code",
   "execution_count": null,
   "id": "a9e87c7e",
   "metadata": {},
   "outputs": [],
   "source": [
    "import random as r\n",
    "\n",
    "#số lần người hoặc máy thắng\n",
    "sl_nguoithang = 0; sl_maythang = 0; solanchoi = 0\n",
    "a = 'Búa'\n",
    "b = 'Kéo'\n",
    "c = 'Bao'\n",
    "\n",
    "while True:\n",
    "    #lặp số lần chơi đến khi người hoặc máy chênh lệch 2 lần thắng\n",
    "    solanchoi += 1\n",
    "    print('--------------------------------------')\n",
    "    print(\"Lần:\",solanchoi)\n",
    "    \n",
    "    \n",
    "    #người ra gì và máy ra auto\n",
    "    nguoi = input(\"Bạn nhập: \")\n",
    "    #may = r.randint(0,2)\n",
    "    may = r.choice(['Kéo','Búa','Bao'])\n",
    "    \n",
    "    #kiểm tra người dùng nhập đúng Kéo Búa Bao hay sai\n",
    "    while nguoi not in ['Kéo','Búa','Bao']:\n",
    "        print(\"Bạn chỉ được nhập 'Kéo', 'Búa', 'Bao'\")\n",
    "        nguoi = input(\"Bạn hãy nhập lại: \")\n",
    "    \n",
    "    #xuất kết quả người và máy chọn\n",
    "    print(\"\\nNgười ra: \", nguoi)\n",
    "    print(\"Máy ra: \", may)\n",
    "\n",
    "    if nguoi == 'Búa':\n",
    "        if may == a:\n",
    "            sl_nguoithang += 1\n",
    "            sl_maythang += 1\n",
    "            print(\"Lần\",solanchoi,\"kết quả: Hòa\")\n",
    "        elif may == b:\n",
    "            sl_nguoithang += 1\n",
    "            print(\"Lần\",solanchoi,\"kết quả: Người thắng\")\n",
    "        else:\n",
    "            sl_maythang += 1\n",
    "            print(\"Lần\",solanchoi,\"kết quả: Máy thắng\")\n",
    "            \n",
    "    elif nguoi == 'Kéo':\n",
    "        if may == a:\n",
    "            sl_maythang += 1\n",
    "            print(\"Lần\",solanchoi,\"kết quả: Máy thắng\")\n",
    "        elif may == b:\n",
    "            sl_nguoithang += 1\n",
    "            sl_maythang += 1\n",
    "            print(\"Lần\",solanchoi,\"kết quả: Hòa\")\n",
    "        else:\n",
    "            sl_nguoithang += 1\n",
    "            print(\"Lần\",solanchoi,\"kết quả: Người thắng\")\n",
    "            \n",
    "    elif nguoi == 'Bao':\n",
    "        if may == a:\n",
    "            sl_nguoithang += 1\n",
    "            print(\"Lần\",solanchoi,\"kết quả: Người thắng\")\n",
    "        elif may == b:\n",
    "            sl_maythang += 1\n",
    "            print(\"Lần\",solanchoi,\"kết quả: Máy thắng\")\n",
    "        else:\n",
    "            sl_nguoithang += 1\n",
    "            sl_maythang += 1\n",
    "            print(\"Lần\",solanchoi,\"kết quả: Hòa\")\n",
    "\n",
    "    print(\"\\nĐiểm số người chơi: \",sl_nguoithang)\n",
    "    print(\"Điểm số của máy: \",sl_maythang)\n",
    "\n",
    "    if sl_nguoithang == (sl_maythang + 2):\n",
    "        print(\"=>Người thắng\")\n",
    "        break\n",
    "    elif sl_maythang == (sl_nguoithang + 2):\n",
    "        print(\"=>Máy thắng\")\n",
    "        break"
   ]
  },
  {
   "cell_type": "markdown",
   "id": "b52ebaa5",
   "metadata": {},
   "source": [
    "<br>Anh/chị hãy nhập khoảng cách đoạn đường đi học từ ký túc xá đến trường.<br>\n",
    "• Nếu đoạn đường nhỏ hơn 300 m thì thông báo “Đường đến trường quá\n",
    "gần. Thôi! Đi bộ”.<br>\n",
    "• Nếu đoạn đường lớn hơn 1200 m thì thông báo “Đường đến trường quá\n",
    "xa. Thôi! Đi xe máy”.<br>\n",
    "• Nếu đoạn đường từ 300m đến 700 m thì thông báo “Đường đến trường\n",
    "không xa. Thôi! Đi xe đạp”.<br>\n",
    "• Nếu, ngược lại “Không xác định”.<br>"
   ]
  },
  {
   "cell_type": "code",
   "execution_count": null,
   "id": "be88e0a8",
   "metadata": {},
   "outputs": [],
   "source": [
    "distance = float(input(\"Nhập độ dài đoạn đường đến trường (m): \"))\n",
    "if distance < 300:\n",
    "    print(\"Đường đến trường quá gần. Thôi! Đi bộ\")\n",
    "elif distance > 1200:\n",
    "    print(\"Đường đến trường quá xa. Thôi! Đi xe máy\")\n",
    "elif distance >= 300 and distance <= 700:\n",
    "    print(\"Đường đến trường không xa. Thôi! Đi xe đạp\")\n",
    "else:\n",
    "    print(\"Không xác định\")"
   ]
  },
  {
   "cell_type": "markdown",
   "id": "3b8d95f3",
   "metadata": {},
   "source": [
    "<br>Giải phương trình bậc nhất:<br>\n",
    "ax + b = 0<br><br>\n",
    "Giải phương trình bậc hai:<br>\n",
    "ax^2 + bx + c = 0"
   ]
  },
  {
   "cell_type": "code",
   "execution_count": null,
   "id": "c7da175f",
   "metadata": {},
   "outputs": [],
   "source": [
    "#def ten_ham(tham_so):\n",
    "    # Khối mã thực hiện tác vụ\n",
    "    # Có thể có câu lệnh return để trả về giá trị (nếu cần)\n",
    "\n",
    "# Gọi hàm\n",
    "#ten_ham(tham_so)\n",
    "\n",
    "\n",
    "import math\n",
    "\n",
    "def giai_pt_bac_nhat(a, b):\n",
    "    if a == 0:\n",
    "        if b == 0:\n",
    "            print(\"Phương trình vô số nghiệm\")\n",
    "        else:\n",
    "            print(\"Phương trình vô nghiệm\")\n",
    "    else:\n",
    "        x = -b / a\n",
    "        print(\"Nghiệm của phương trình là:\", x)\n",
    "\n",
    "def giai_pt_bac_hai(a, b, c):\n",
    "    if a == 0:\n",
    "        giai_pt_bac_nhat(b, c)\n",
    "    else:\n",
    "        delta = b**2 - 4*a*c\n",
    "        if delta < 0:\n",
    "            print(\"Phương trình vô nghiệm\")\n",
    "        elif delta == 0:\n",
    "            x = -b / (2*a)\n",
    "            print(\"Phương trình có nghiệm kép:\", x)\n",
    "        else:\n",
    "            x1 = (-b + math.sqrt(delta)) / (2*a)\n",
    "            x2 = (-b - math.sqrt(delta)) / (2*a)\n",
    "            print(\"Phương trình có hai nghiệm phân biệt:\")\n",
    "            print(\"x1 =\", x1)\n",
    "            print(\"x2 =\", x2)\n",
    "\n",
    "# Giải phương trình bậc nhất: ax + b = 0\n",
    "a = 2\n",
    "b = -3\n",
    "giai_pt_bac_nhat(a, b)\n",
    "\n",
    "# Giải phương trình bậc hai: ax^2 + bx + c = 0\n",
    "a = 1\n",
    "b = -5\n",
    "c = 6\n",
    "giai_pt_bac_hai(a, b, c"
   ]
  },
  {
   "cell_type": "markdown",
   "id": "ff83f24e",
   "metadata": {},
   "source": [
    "<br>Nhập vào 3 số a, b, c. Sau đó, kiểm tra xem a, b, c có phải là 3 cạnh của tam giác. <br>\n",
    "Biết a, b, c là 3 cạnh tam gác. Kiểm tra xem là tam giá gì (vuông, cân, đều, thường…)?"
   ]
  },
  {
   "cell_type": "code",
   "execution_count": null,
   "id": "c5ba5d78",
   "metadata": {},
   "outputs": [],
   "source": [
    "# Các điều kiện được kiểm tra:\n",
    "\n",
    "# Điều kiện tổng hai cạnh bất kỳ phải lớn hơn cạnh còn lại để tạo thành tam giác.\n",
    "# Nếu cả ba cạnh bằng nhau, đó là tam giác đều.\n",
    "# Nếu hai cạnh bằng nhau, đó là tam giác cân.\n",
    "# Nếu ba cạnh thỏa mãn định lý Pythagoras, đó là tam giác vuông.\n",
    "# Nếu không thỏa mãn bất kỳ điều kiện nào trên, đó là tam giác thường.\n",
    "# Nếu không thỏa mãn điều kiện đầu tiên, tức là không tạo thành tam giác, sẽ hiển thị thông báo tương ứng.\n",
    "\n",
    "# Sau khi nhập vào các cạnh tam giác, hàm kiem_tra_tam_giac \n",
    "# được gọi để kiểm tra và hiển thị tính chất của tam giác dựa trên các cạnh đã cho.\n",
    "\n",
    "def kiem_tra_tam_giac(a, b, c):\n",
    "    if a + b > c and a + c > b and b + c > a:\n",
    "        if a == b == c:\n",
    "            print(\"Tam giác đều\")\n",
    "        elif a == b or a == c or b == c:\n",
    "            print(\"Tam giác cân\")\n",
    "        elif a**2 + b**2 == c**2 or a**2 + c**2 == b**2 or b**2 + c**2 == a**2:\n",
    "            print(\"Tam giác vuông\")\n",
    "        else:\n",
    "            print(\"Tam giác thường\")\n",
    "    else:\n",
    "        print(\"Ba cạnh\", a, b, c, \"không tạo thành tam giác\")\n",
    "\n",
    "# Nhập vào 3 cạnh tam giác\n",
    "a = float(input(\"Nhập cạnh a: \"))\n",
    "b = float(input(\"Nhập cạnh b: \"))\n",
    "c = float(input(\"Nhập cạnh c: \"))\n",
    "\n",
    "# Kiểm tra tính chất của tam giác\n",
    "kiem_tra_tam_giac(a, b, c)"
   ]
  },
  {
   "cell_type": "markdown",
   "id": "99e6ec7f",
   "metadata": {},
   "source": [
    "<br>Tính tiền taxi theo số km quãng đường đi được. Cho biết:<br>\n",
    "• 1 km đầu tiên: 20k<br>\n",
    "• 3 km đầu tiên: 13k/km<br>\n",
    "• Từ km thứ 4 đến km thứ 8: 12k/km<br>\n",
    "• Còn lại giá 10k/km<br>\n",
    "• Nếu đi hơn 100k thì giảm thêm 8% cho tổng tiền."
   ]
  },
  {
   "cell_type": "code",
   "execution_count": null,
   "id": "3dfaf112",
   "metadata": {},
   "outputs": [],
   "source": [
    "def tinh_tien_taxi(km):\n",
    "    tien = 0\n",
    "    if km <= 0:\n",
    "        return tien\n",
    "\n",
    "    if km <= 1:\n",
    "        tien = 20\n",
    "    elif km <= 3:\n",
    "        tien = 20 + (km - 1) * 13 #+ 1km = 20k\n",
    "    elif km <= 8:\n",
    "        tien = 20 + 26 + (km - 3) * 12 #+ 1km = 20k, +2km=26k\n",
    "    else:\n",
    "        tien = 20 + 26 + 60 + (km - 8) * 10\n",
    "\n",
    "    if tien > 100:\n",
    "        tien = tien - tien * 0.08\n",
    "\n",
    "    return tien\n",
    "\n",
    "# Nhập số km quãng đường đi được\n",
    "km = float(input(\"Nhập số km: \"))\n",
    "\n",
    "# Tính tiền taxi\n",
    "tien_taxi = tinh_tien_taxi(km)\n",
    "print(\"Tiền taxi:\", tien_taxi, \"k\")"
   ]
  },
  {
   "cell_type": "markdown",
   "id": "c9ef1fcc",
   "metadata": {},
   "source": [
    "<br>Nhập vào ngày tháng năm theo định dạng dd/mm/yyyy hoặc ddmm-yyyy.<br>\n",
    "Sau đó, kiểm tra tính hợp lệ của ngày tháng năm nhập vào"
   ]
  },
  {
   "cell_type": "code",
   "execution_count": null,
   "id": "2d7bb876",
   "metadata": {},
   "outputs": [],
   "source": [
    "import re\n",
    "\n",
    "def kiem_tra_ngay_thang_nam(ngay_thang_nam):\n",
    "    # Sử dụng biểu thức chính quy để kiểm tra định dạng\n",
    "    pattern = r'^(0[1-9]|[12][0-9]|3[01])/(0[1-9]|1[0-2])/(\\d{4})$|^(0[1-9]|[12][0-9]|3[01])(0[1-9]|1[0-2])(\\d{4})$'\n",
    "\n",
    "    # Kiểm tra định dạng ngày tháng năm\n",
    "    if re.match(pattern, ngay_thang_nam):\n",
    "        ngay = int(ngay_thang_nam[:2])\n",
    "        thang = int(ngay_thang_nam[3:5])\n",
    "        nam = int(ngay_thang_nam[6:])\n",
    "\n",
    "        # Kiểm tra tính hợp lệ của ngày tháng năm\n",
    "        if ngay <= 31 and thang <= 12 and nam >= 1000:\n",
    "            return True\n",
    "    return False\n",
    "\n",
    "# Nhập ngày tháng năm\n",
    "ngay_thang_nam = input(\"Nhập ngày tháng năm (dd/mm/yyyy hoặc ddmm-yyyy): \")\n",
    "\n",
    "# Kiểm tra tính hợp lệ\n",
    "if kiem_tra_ngay_thang_nam(ngay_thang_nam):\n",
    "    print(\"Ngày tháng năm hợp lệ.\")\n",
    "else:\n",
    "    print(\"Ngày tháng năm không hợp lệ.\")"
   ]
  },
  {
   "cell_type": "markdown",
   "id": "a1792b85",
   "metadata": {},
   "source": [
    "<br><br><br>\n",
    "# For (Cấu trúc lặp)"
   ]
  },
  {
   "cell_type": "markdown",
   "id": "99447d54",
   "metadata": {},
   "source": [
    "# <span style=\"color:red\">FOR</span>"
   ]
  },
  {
   "cell_type": "markdown",
   "id": "0e8ff972",
   "metadata": {},
   "source": [
    "for <biến vòng lặp> in <dãy giá trị> :<br>\n",
    "&nbsp;&nbsp;&nbsp;&nbsp;&nbsp;<Lệnh hoặc khối lệnh>\n",
    "<br><br>\n",
    "<dãy giá trị> thể hiện cho số lần lặp, bao gồm chuỗi, danh sách, tuple,\n",
    "dictionary, range…\n",
    "<br><br><br><br>\n",
    "\n",
    "\n",
    "• Tạo một danh sách bằng cách kết hợp lệnh for và biểu thức<br><br>\n",
    "Cú pháp – còn gọi là cú pháp comprehension<br>\n",
    "new_list = [expression for item in iterable if condition]<br><br>\n",
    "• expression: biểu thức để tính toán giá trị của từng phần tử trong list mới.<br>\n",
    "• item: biến được sử dụng để lặp qua từng phần tử trong list ban đầu.<br>\n",
    "• condition: điều kiện kiểm tra mà các item phải thỏa để được thêm vào new_list\n",
    "new_list"
   ]
  },
  {
   "cell_type": "code",
   "execution_count": null,
   "id": "6bf52c0a",
   "metadata": {},
   "outputs": [],
   "source": [
    "color = [\"Đỏ\",\"Cam\",\"Vàng\",\"Lục\",\"Lam\",\"Chàm\",\"Tím\"]\n",
    "for i in color:\n",
    "    print(i, \"\\tSố ký tự:\", len(i))"
   ]
  },
  {
   "cell_type": "code",
   "execution_count": null,
   "id": "e26bbfd7",
   "metadata": {},
   "outputs": [],
   "source": [
    "for i in range(10):\n",
    "    print(i, end='\\t') #end= có tác dụng liệt kê ra hàng ngang"
   ]
  },
  {
   "cell_type": "code",
   "execution_count": 3,
   "id": "d2d0db70",
   "metadata": {},
   "outputs": [
    {
     "name": "stdout",
     "output_type": "stream",
     "text": [
      "1\t3\t5\t7\t9\t11\t13\t15\t17\t19\t"
     ]
    }
   ],
   "source": [
    "for i in range(1,20,2):\n",
    "    print(i, end='\\t') #end= có tác dụng liệt kê ra hàng ngang"
   ]
  },
  {
   "cell_type": "code",
   "execution_count": null,
   "id": "182d0674",
   "metadata": {},
   "outputs": [],
   "source": [
    "ds = [1,2,3,4,5,6,7,8,9,10]\n",
    "new_ds1 = [item **2 for item in ds] #mỗi phần tử lũy thừa 2 (mũ 2)\n",
    "new_ds2 = [item - 1 for item in ds if item%2==0] #xét điều kiện trước rồi lấy phần tử phù hợp - 1\n",
    "print('Danh sách ban đầu:', ds)\n",
    "print('Danh sách mới 1:', new_ds1)\n",
    "print('Danh sách mới 2:', new_ds2)"
   ]
  },
  {
   "cell_type": "markdown",
   "id": "36e2e0e5",
   "metadata": {},
   "source": [
    "# <span style=\"color:red;\">Bài Tập</span>"
   ]
  },
  {
   "cell_type": "markdown",
   "id": "bbee2f99",
   "metadata": {},
   "source": [
    "Viết chương trình tính giai thừa của một số cho trước n (nguyên dương) được nhập từ bàn phím.<br>\n",
    "S = n! = 1.2.3...n"
   ]
  },
  {
   "cell_type": "code",
   "execution_count": null,
   "id": "24de2677",
   "metadata": {},
   "outputs": [],
   "source": [
    "n = int(input(\"Nhập một số nguyên dương n: \"))\n",
    "\n",
    "# Khởi tạo biến giai_thua bằng 1\n",
    "giai_thua = 1\n",
    "\n",
    "# Tính giai thừa\n",
    "for i in range(1, n+1): #vd 5 thì chạy từ 1-5(6) = 1x2x3x4x5\n",
    "    giai_thua *= i\n",
    "\n",
    "# In kết quả\n",
    "print(\"Giai thừa của\", n, \"là\", giai_thua)"
   ]
  },
  {
   "cell_type": "markdown",
   "id": "b98c14a4",
   "metadata": {},
   "source": [
    "<br>Viết chương trình in ra bản cửu chương 2 đến cửu chương 9.<br>\n",
    "Ví dụ:<br>\n",
    "1 x 2 = 2<br>\n",
    "2 x 2 = 4<br>\n",
    "3 x 2 = 6<br>\n",
    "4 x 2 = 8<br>\n",
    "5 x 2 = 10<br>\n",
    "6 x 2 = 12<br>\n",
    "7 x 2 = 14<br>\n",
    "8 x 2 = 16<br>\n",
    "9 x 2 = 18<br>\n",
    "10 x 2 = 20"
   ]
  },
  {
   "cell_type": "code",
   "execution_count": null,
   "id": "bc8f5ffe",
   "metadata": {},
   "outputs": [],
   "source": [
    "for i in range(2, 10): #2-9\n",
    "    for j in range(1, 11): #nhân cho từ 1-10\n",
    "        result = i * j\n",
    "        print(f\"{j} x {i} = {result}\")\n",
    "    print() # để khoảng cách các vòng lặp i"
   ]
  },
  {
   "cell_type": "markdown",
   "id": "1a1b5c89",
   "metadata": {},
   "source": [
    "<br>Viết chương trình có thể tạo danh sách:<br>\n",
    "• Số lượng các phần tử được chọn ngẫu nhiên từ 20 đến 30.<br>\n",
    "• Các giá trị bình phương của các số thực được chọn ngẫu nhiên từ 18 đến 99"
   ]
  },
  {
   "cell_type": "code",
   "execution_count": null,
   "id": "a35cb3e0",
   "metadata": {},
   "outputs": [],
   "source": [
    "import random\n",
    "\n",
    "# Tạo số lượng phần tử ngẫu nhiên từ 20 đến 30\n",
    "so_luong_phan_tu = random.randint(20, 30)\n",
    "\n",
    "# Tạo danh sách các giá trị bình phương ngẫu nhiên từ 18 đến 99\n",
    "# random.uniform trả về số thực x.xxx ngẫu nhiên từ 18-99\n",
    "danh_sach = [random.uniform(18, 99) ** 2 for _ in range(so_luong_phan_tu)]\n",
    "\n",
    "# In danh sách\n",
    "print(\"Danh sách các giá trị bình phương:\")\n",
    "print(danh_sach)"
   ]
  },
  {
   "cell_type": "markdown",
   "id": "6934797c",
   "metadata": {},
   "source": [
    "\n",
    "<br><br><br>\n",
    "# While (Cấu trúc lặp)"
   ]
  },
  {
   "cell_type": "markdown",
   "id": "a276f875",
   "metadata": {},
   "source": [
    "while <điều kiện kiểm tra> :<br>\n",
    "&nbsp;&nbsp;&nbsp;&nbsp;&nbsp;<Lệnh hoặc khối lệnh>\n",
    "<br><br>\n",
    "Cách nhớ:\n",
    "“kiểm tra điều kiện trước rồi mới thực hiện lệnh”"
   ]
  },
  {
   "cell_type": "code",
   "execution_count": null,
   "id": "fccaadb7",
   "metadata": {},
   "outputs": [],
   "source": [
    "x = float(input(\"Nhập x =\"))\n",
    "\n",
    "while x < 0:\n",
    "    x = float(input(\"Nhập lại x = \"))\n",
    "print(\"Giá trị đã nhập: \",x)"
   ]
  },
  {
   "cell_type": "markdown",
   "id": "5470efc0",
   "metadata": {},
   "source": [
    "# <span style=\"color:red;\">Bài Tập</span>"
   ]
  },
  {
   "cell_type": "markdown",
   "id": "61f29087",
   "metadata": {},
   "source": [
    "<br>Viết lệnh kiểm tra giá trị nhập vào từ bàn phím thỏa điều kiện thuộc [-99; 99].<br>\n",
    "Nếu không khỏa bắt người dùng nhập lại đến khi nào khỏa điều kiện."
   ]
  },
  {
   "cell_type": "code",
   "execution_count": null,
   "id": "0935187b",
   "metadata": {},
   "outputs": [],
   "source": [
    "value = None  # Khởi tạo giá trị ban đầu của value\n",
    "while value is None or value < -99 or value > 99:\n",
    "    try:\n",
    "        value = int(input(\"Nhập giá trị từ -99 đến 99: \"))\n",
    "    except ValueError:\n",
    "        print(\"Giá trị không hợp lệ. Vui lòng nhập lại.\")\n",
    "\n",
    "print(\"Giá trị hợp lệ:\", value)"
   ]
  },
  {
   "cell_type": "markdown",
   "id": "2f8710fa",
   "metadata": {},
   "source": [
    "<br>Viết lệnh kiểm tra giá trị nhập vào (phải là số thực) từ bàn phím<br>\n",
    "thỏa điều kiện thuộc [-89.9; 88.8]. Nếu không khỏa bắt người dùng<br>\n",
    "nhập lại đến khi nào khỏa điều kiện"
   ]
  },
  {
   "cell_type": "code",
   "execution_count": null,
   "id": "79ee5833",
   "metadata": {},
   "outputs": [],
   "source": [
    "value = None  # Khởi tạo giá trị ban đầu của value là None\n",
    "\n",
    "while value is None or value < -89.9 or value > 88.8 or float(value) != value:\n",
    "    try:\n",
    "        value = float(input(\"Nhập giá trị số thực trong khoảng [-89.9, 88.8]: \"))\n",
    "    except ValueError:\n",
    "        print(\"Giá trị không hợp lệ. Vui lòng nhập lại!\")\n",
    "\n",
    "print(\"Giá trị hợp lệ:\", value)"
   ]
  },
  {
   "cell_type": "markdown",
   "id": "8f0c094c",
   "metadata": {},
   "source": [
    "<br><br><br>\n",
    "# While có else (Cấu trúc lặp)"
   ]
  },
  {
   "cell_type": "code",
   "execution_count": null,
   "id": "5f834622",
   "metadata": {},
   "outputs": [],
   "source": [
    "x = float(input(\"Nhập x =\"))\n",
    "\n",
    "while x < 0:\n",
    "    x = float(input(\"Nhập lại x = \"))\n",
    "else:\n",
    "    print(\"Giá trị đã nhập: \",x)"
   ]
  },
  {
   "cell_type": "markdown",
   "id": "53463ab9",
   "metadata": {},
   "source": [
    "<br><br><br>\n",
    "# Break"
   ]
  },
  {
   "cell_type": "markdown",
   "id": "d790e4ef",
   "metadata": {},
   "source": [
    "Lệnh break được sử dụng trong vòng lặp để chấm dứt vòng lặp theo ý muốn.<br>\n",
    "• break chủ yếu sử dụng trong vòng lặp while và for\n",
    "<br><br>\n",
    "while <điều kiện kiểm tra> :<br>\n",
    "&emsp;&emsp;<Lệnh hoặc khối lệnh bên trong vòng lặp><br>\n",
    "&emsp;&emsp;if <điều kiện để dừng vòng lặp> :<br>\n",
    "&emsp;&emsp;&emsp;&emsp;break<br>\n",
    "&emsp;&emsp;<Lệnh hoặc khối lệnh bên trong vòng lặp><br>"
   ]
  },
  {
   "cell_type": "code",
   "execution_count": null,
   "id": "1c667563",
   "metadata": {},
   "outputs": [],
   "source": [
    "tup = (\"Đỏ\",\"Cam\",\"Vàng\",\"Lục\",\"Lam\",\"Chàm\",\"Tím\")\n",
    "for i in tup:\n",
    "    print(i, \"\\t\")\n",
    "    if i == \"Lục\": #dừng khi phần tử chạy đến lục\n",
    "        break"
   ]
  },
  {
   "cell_type": "markdown",
   "id": "c62006f2",
   "metadata": {},
   "source": [
    "<br><br><br>\n",
    "# Continue"
   ]
  },
  {
   "cell_type": "markdown",
   "id": "f3094238",
   "metadata": {},
   "source": [
    "Giới thiệu <br>\n",
    "• Lệnh continue được áp dụng trong vòng lặp for hoặc while.<br>\n",
    "• Khi gặp lệnh continue, vòng lặp sẽ phớt lờ (bỏ qua) các lệnh phía sau continue chứ không dừng vòng lặp.<br>\n",
    "• Vòng lặp chỉ dừng lại khi <điều kiện lặp> có giá trị False.<br><br>\n",
    "\n",
    "for <biến vòng lặp> in <dãy giá trị> :<br>\n",
    "&emsp;&emsp;<Lệnh hoặc khối lệnh bên trong vòng lặp><br>\n",
    "&emsp;&emsp;if <điều kiện> :<br>\n",
    "&emsp;&emsp;&emsp;&emsp;continue<br>\n",
    "&emsp;&emsp;<Lệnh hoặc khối lệnh bên trong vòng lặp><br><br>\n",
    "\n",
    "while <điều kiện kiểm tra> :<br>\n",
    "&emsp;&emsp;<Lệnh hoặc khối lệnh bên trong vòng lặp><br>\n",
    "&emsp;&emsp;if <điều kiện> :<br>\n",
    "&emsp;&emsp;&emsp;&emsp;continue<br>\n",
    "&emsp;&emsp;<Lệnh hoặc khối lệnh bên trong vòng lặp><br>"
   ]
  },
  {
   "cell_type": "code",
   "execution_count": null,
   "id": "7e16dd6a",
   "metadata": {},
   "outputs": [],
   "source": [
    "tup = (\"Đỏ\",\"Cam\",\"Vàng\",\"Lục\",\"Lam\",\"Chàm\",\"Tím\")\n",
    "for i in tup:\n",
    "    if i == 'Vàng' or i == 'Lam':\n",
    "        continue\n",
    "    print(i)"
   ]
  },
  {
   "cell_type": "markdown",
   "id": "58d109c2",
   "metadata": {},
   "source": [
    "<br><br><br>\n",
    "# Pass"
   ]
  },
  {
   "cell_type": "markdown",
   "id": "9717b440",
   "metadata": {},
   "source": [
    "Giới thiệu<br>\n",
    "• Lệnh pass để đặt chỗ trước cho phần thân trong lớp, hàm, vòng lặp… đó<br>\n",
    "là rỗng, không có lệnh để cho IDE không báo lỗi cú pháp<br>\n",
    "• Cú pháp câu lệnh chỉ một từ khóa “pass”<br>"
   ]
  },
  {
   "cell_type": "code",
   "execution_count": null,
   "id": "df6b5b75",
   "metadata": {},
   "outputs": [],
   "source": [
    "color = [\"Đỏ\",\"Cam\",\"Vàng\",\"Lục\",\"Lam\",\"Chàm\",\"Tím\"]\n",
    "for i in color:\n",
    "    pass"
   ]
  },
  {
   "cell_type": "markdown",
   "id": "8be62c9d",
   "metadata": {},
   "source": [
    "<br><br><br>\n",
    "# <span style=\"color:red;\">Bài Tập Tổng Hợp</span>"
   ]
  },
  {
   "cell_type": "markdown",
   "id": "30ac2c03",
   "metadata": {},
   "source": [
    "BÀI 1<br>\n",
    "Từ một chuỗi str_input được nhập vào từ bàn phím. Hãy viết lệnh thực hiện các chức năng sau:<br>\n",
    "➢ Tính độ dài chuỗi.<br>\n",
    "➢ Đếm và in các ký tự đặc biệt: ! @ # $ % ^ & * ( ) - = + . /<br>\n",
    "➢ Đếm và in các ký tự chữ cái từ [a-z]<br>\n",
    "➢ Đếm và in các ký tự chữ số từ [0-9]<br>\n",
    "➢ Đếm và in các ký tự chữ [A-Z]<br>"
   ]
  },
  {
   "cell_type": "code",
   "execution_count": null,
   "id": "894d68ae",
   "metadata": {},
   "outputs": [],
   "source": [
    "str_input = input(\"Nhập chuỗi: \")\n",
    "\n",
    "# Tính độ dài chuỗi\n",
    "do_dai_chuoi = len(str_input)\n",
    "print(\"Độ dài chuỗi:\", do_dai_chuoi)\n",
    "\n",
    "# Đếm và in các ký tự đặc biệt: ! @ # $ % ^ & * ( ) - = + . /\n",
    "ky_tu_dac_biet = \"!@#$%^&*()-=+./\"\n",
    "count_dac_biet = 0\n",
    "for char in str_input:\n",
    "    if char in ky_tu_dac_biet:\n",
    "        count_dac_biet += 1\n",
    "        print(\"Ký tự đặc biệt:\", char)\n",
    "print(\"Số lượng ký tự đặc biệt:\", count_dac_biet)\n",
    "\n",
    "# Đếm và in các ký tự chữ cái từ [a-z]\n",
    "count_chu_cai_thuong = 0\n",
    "for char in str_input:\n",
    "    if char.isalpha() and char.islower():\n",
    "        count_chu_cai_thuong += 1\n",
    "        print(\"Ký tự chữ cái thường:\", char)\n",
    "print(\"Số lượng ký tự chữ cái thường:\", count_chu_cai_thuong)\n",
    "\n",
    "# Đếm và in các ký tự chữ số từ [0-9]\n",
    "count_chu_so = 0\n",
    "for char in str_input:\n",
    "    if char.isdigit():\n",
    "        count_chu_so += 1\n",
    "        print(\"Ký tự chữ số:\", char)\n",
    "print(\"Số lượng ký tự chữ số:\", count_chu_so)\n",
    "\n",
    "# Đếm và in các ký tự chữ [A-Z]\n",
    "count_chu_cai_hoa = 0\n",
    "for char in str_input:\n",
    "    if char.isalpha() and char.isupper():\n",
    "        count_chu_cai_hoa += 1\n",
    "        print(\"Ký tự chữ cái hoa:\", char)\n",
    "print(\"Số lượng ký tự chữ cái hoa:\", count_chu_cai_hoa)"
   ]
  },
  {
   "cell_type": "markdown",
   "id": "04f128ef",
   "metadata": {},
   "source": [
    "<br><br>BÀI 2<br>\n",
    "Viết hàm kiểm tra để phát hiện chuỗi nhập vào có phải là một e-mail hay không?<br>\n",
    "➢ Chú ý: Nếu là các e-mail xuất phát từ Gmail, Yahoo, Hotmail, Outlook… (gọi tắt là tập luật tên miền e-mail) thì trước ký tự @ là một chuổi tối thiểu 6 ký tự, không khoảng trắng và ký tự đặc biệt.<br>\n",
    "➢ Khảo sát và tìm thêm các tên miền e-mail để bổ sung vào tập luật giới hạn trên"
   ]
  },
  {
   "cell_type": "code",
   "execution_count": null,
   "id": "0337c8da",
   "metadata": {},
   "outputs": [],
   "source": [
    "import re\n",
    "\n",
    "def is_valid_email(email):\n",
    "    pattern = r'^[a-zA-Z0-9._%+-]{6,}@(gmail|yahoo|hotmail|outlook)\\.[a-zA-Z]{2,}$'\n",
    "    # Các tên miền e-mail khác có thể được bổ sung vào tập luật trên bằng cách thêm \"|tên_miền\" vào đoạn (gmail|yahoo|hotmail|outlook)\n",
    "\n",
    "    if re.match(pattern, email):\n",
    "        return True\n",
    "    else:\n",
    "        return False\n",
    "\n",
    "# Nhập email từ người dùng\n",
    "email = input(\"Nhập địa chỉ email: \")\n",
    "\n",
    "# Kiểm tra tính hợp lệ của email\n",
    "if is_valid_email(email):\n",
    "    print(email, \"là một địa chỉ email hợp lệ.\")\n",
    "else:\n",
    "    print(email, \"không phải là một địa chỉ email hợp lệ.\")"
   ]
  },
  {
   "cell_type": "code",
   "execution_count": null,
   "id": "a67ae8f8",
   "metadata": {},
   "outputs": [],
   "source": [
    "# BÀI #3\n",
    "# Viết hàm kiểm tra quá trình đăng nhập ID user và password khi login vào hệ thống phải thõa mãn các tiêu chí sau:\n",
    "# ➢ ID User:\n",
    "# • Là một chuỗi, có ít nhất 6 ký tự, tối đa 24 ký tự.\n",
    "# • Không chứa các ký tự: ! @ # $ % ^ & * ( ) - = +\n",
    "# • Không khoảng trắng.\n",
    "# ➢ Password:\n",
    "# • Ít nhất 1 chữ cái nằm trong [a-z]\n",
    "# • Ít nhất 1 số nằm trong [0-9]\n",
    "# • Ít nhất 1 kí tự nằm trong [A-Z]\n",
    "# • Ít nhất 1 ký tự nằm trong [$ # @]\n",
    "# • Độ dài mật khẩu tối thiểu 6 ký tự\n",
    "# • Độ dài mật khẩu tối đa 24 ký tự"
   ]
  },
  {
   "cell_type": "code",
   "execution_count": 21,
   "id": "30468bee",
   "metadata": {},
   "outputs": [
    {
     "name": "stdout",
     "output_type": "stream",
     "text": [
      "Nhập ID User: 21312313\n",
      "Nhập Password: Arraka$111\n",
      "Quá trình đăng nhập không hợp lệ.\n"
     ]
    }
   ],
   "source": [
    "import re\n",
    "\n",
    "def is_valid_login(id_user, password):\n",
    "    # Kiểm tra ID User\n",
    "    if len(id_user) < 6 or len(id_user) > 24:\n",
    "        return False\n",
    "    if re.search(r'[!@#$%^&*()-=+]', id_user):\n",
    "        return False\n",
    "    if ' ' in id_user:\n",
    "        return False\n",
    "    if not re.search(r'^[a-zA-Z0-9_]+$', id_user):\n",
    "        return False\n",
    "\n",
    "    # Kiểm tra Password\n",
    "    if len(password) < 6 or len(password) > 24:\n",
    "        return False\n",
    "    if not re.search(r'[a-z]', password):\n",
    "        return False\n",
    "    if not re.search(r'[A-Z]', password):\n",
    "        return False\n",
    "    if not re.search(r'\\d', password):\n",
    "        return False\n",
    "    if not re.search(r'[$#@]', password):\n",
    "        return False\n",
    "\n",
    "    return True\n",
    "\n",
    "# Nhập ID User và Password từ người dùng\n",
    "id_user = input(\"Nhập ID User: \")\n",
    "password = input(\"Nhập Password: \")\n",
    "\n",
    "# Kiểm tra tính hợp lệ của ID User và Password\n",
    "if is_valid_login(id_user, password):\n",
    "    print(\"Quá trình đăng nhập hợp lệ.\")\n",
    "else:\n",
    "    print(\"Quá trình đăng nhập không hợp lệ.\")"
   ]
  }
 ],
 "metadata": {
  "kernelspec": {
   "display_name": "Python 3 (ipykernel)",
   "language": "python",
   "name": "python3"
  },
  "language_info": {
   "codemirror_mode": {
    "name": "ipython",
    "version": 3
   },
   "file_extension": ".py",
   "mimetype": "text/x-python",
   "name": "python",
   "nbconvert_exporter": "python",
   "pygments_lexer": "ipython3",
   "version": "3.11.4"
  }
 },
 "nbformat": 4,
 "nbformat_minor": 5
}
