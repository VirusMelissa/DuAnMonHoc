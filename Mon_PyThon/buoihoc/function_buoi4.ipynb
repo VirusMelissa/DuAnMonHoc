{
 "cells": [
  {
   "cell_type": "code",
   "execution_count": 14,
   "id": "ca12ee52",
   "metadata": {},
   "outputs": [
    {
     "name": "stdout",
     "output_type": "stream",
     "text": [
      "['NV1', 'Nguyễn Văn A', 5000000, 5000000, 100]\n",
      "['NV2', 'Trần Văn A', 6000000, 6000000, 120]\n",
      "['NV_BH1', 'Lê Thị H', 5000000, 5000000, 100]\n",
      "['NV_BH2', 'Trương Thị B', 6000000, 6000000, 120]\n"
     ]
    }
   ],
   "source": [
    "NhanvienVP1 = {\n",
    "    \"Ma_nhan_vien\": \"NV1\",\n",
    "    \"Ho_va_ten\": \"Nguyễn Văn A\",\n",
    "    \"Luong_co_ban\": 5_000_000,\n",
    "    \"Luong_hang_thang\": 5_000_000,\n",
    "    \"So_ngay\": 100\n",
    "}\n",
    "\n",
    "NhanvienVP2 = {\n",
    "    \"Ma_nhan_vien\": \"NV2\",\n",
    "    \"Ho_va_ten\": \"Trần Văn A\",\n",
    "    \"Luong_co_ban\": 6_000_000,\n",
    "    \"Luong_hang_thang\": 6_000_000,\n",
    "    \"So_ngay\": 120\n",
    "}\n",
    "\n",
    "NhanvienVP3 = {\n",
    "    \"Ma_nhan_vien\": \"NV3\",\n",
    "    \"Ho_va_ten\": \"Nguyễn Thị C\",\n",
    "    \"Luong_co_ban\": 7_000_000,\n",
    "    \"Luong_hang_thang\": 7_200_000,\n",
    "    \"So_ngay\": 200\n",
    "}\n",
    "\n",
    "NhanvienVP4 = {\n",
    "    \"Ma_nhan_vien\": \"NV4\",\n",
    "    \"Ho_va_ten\": \"Nguyễn Trung D\",\n",
    "    \"Luong_co_ban\": 6_000_000,\n",
    "    \"Luong_hang_thang\": 6_000_000,\n",
    "    \"So_ngay\": 120\n",
    "}\n",
    "\n",
    "NhanvienVP5 = {\n",
    "    \"Ma_nhan_vien\": \"NV5\",\n",
    "    \"Ho_va_ten\": \"Bùi Thị E\",\n",
    "    \"Luong_co_ban\": 5_000_000,\n",
    "    \"Luong_hang_thang\": 5_000_000,\n",
    "    \"So_ngay\": 100\n",
    "}\n",
    "\n",
    "NhanvienVP6 = {\n",
    "    \"Ma_nhan_vien\": \"NV6\",\n",
    "    \"Ho_va_ten\": \"Đinh Văn F\",\n",
    "    \"Luong_co_ban\": 10_000_000,\n",
    "    \"Luong_hang_thang\": 12_000_000,\n",
    "    \"So_ngay\": 120\n",
    "}\n",
    "\n",
    "NhanvienVP7 = {\n",
    "    \"Ma_nhan_vien\": \"NV7\",\n",
    "    \"Ho_va_ten\": \"Nguyễn Văn G\",\n",
    "    \"Luong_co_ban\": 5_000_000,\n",
    "    \"Luong_hang_thang\": 5_600_000,\n",
    "    \"So_ngay\": 120\n",
    "}\n",
    "\n",
    "NhanvienVP8 = {\n",
    "    \"Ma_nhan_vien\": \"NV8\",\n",
    "    \"Ho_va_ten\": \"Trần Thị Thu H\",\n",
    "    \"Luong_co_ban\": 7_000_000,\n",
    "    \"Luong_hang_thang\": 7_800_000,\n",
    "    \"So_ngay\": 140\n",
    "}\n",
    "\n",
    "NhanvienVP9 = {\n",
    "    \"Ma_nhan_vien\": \"NV9\",\n",
    "    \"Ho_va_ten\": \"Bùi Minh T\",\n",
    "    \"Luong_co_ban\": 5_000_000,\n",
    "    \"Luong_hang_thang\": 5_000_000,\n",
    "    \"So_ngay\": 100\n",
    "}\n",
    "\n",
    "NhanvienVP10 = {\n",
    "    \"Ma_nhan_vien\": \"NV10\",\n",
    "    \"Ho_va_ten\": \"Ngô Trần T\",\n",
    "    \"Luong_co_ban\": 6_000_000,\n",
    "    \"Luong_hang_thang\": 12_000_000,\n",
    "    \"So_ngay\": 120\n",
    "}\n",
    "\n",
    "\n",
    "\n",
    "NhanvienBH1 = {\n",
    "    \"Ma_nhan_vien\": \"NV_BH1\",\n",
    "    \"Ho_va_ten\": \"Lê Thị H\",\n",
    "    \"Luong_co_ban\": 5_000_000,\n",
    "    \"Luong_hang_thang\": 5_000_000,\n",
    "    \"So_sanpham\": 100\n",
    "}\n",
    "\n",
    "NhanvienBH2 = {\n",
    "    \"Ma_nhan_vien\": \"NV_BH2\",\n",
    "    \"Ho_va_ten\": \"Trương Thị B\",\n",
    "    \"Luong_co_ban\": 6_000_000,\n",
    "    \"Luong_hang_thang\": 6_000_000,\n",
    "    \"So_sanpham\": 120\n",
    "}\n",
    "    \n",
    "dsNV = []\n",
    "dsNV.append(NhanvienVP1)\n",
    "dsNV.append(NhanvienVP2)\n",
    "dsNV.append(NhanvienBH1)\n",
    "dsNV.append(NhanvienBH2)\n",
    "\n",
    "\n",
    "for nv in dsNV:\n",
    "    print(list(nv.values()))"
   ]
  },
  {
   "cell_type": "markdown",
   "id": "78f0d1a7",
   "metadata": {},
   "source": [
    "<br><br><br>\n",
    "# FUNCTION (HÀM)"
   ]
  },
  {
   "cell_type": "markdown",
   "id": "9ea89475",
   "metadata": {},
   "source": []
  },
  {
   "cell_type": "code",
   "execution_count": 30,
   "id": "6e3a8fe0",
   "metadata": {},
   "outputs": [
    {
     "name": "stdout",
     "output_type": "stream",
     "text": [
      "3\n",
      "None\n",
      "Prints the values to a stream, or to sys.stdout by default.\n",
      "\n",
      "  sep\n",
      "    string inserted between values, default a space.\n",
      "  end\n",
      "    string appended after the last value, default a newline.\n",
      "  file\n",
      "    a file-like object (stream); defaults to the current sys.stdout.\n",
      "  flush\n",
      "    whether to forcibly flush the stream.\n"
     ]
    }
   ],
   "source": [
    "#a: int, b:float hiển thị mong muốn kiểu dữ liệu chứ người nhập vào số thực trong a vẫn được\n",
    "# -> tuple mong muốn kiểu dữ liệu trả về là tuple,string\n",
    "def tinh1(a: int, b:float) -> str:\n",
    "    cong = a + b\n",
    "    tru = a - b\n",
    "    nhan = a * b\n",
    "    chia = a / b\n",
    "    \n",
    "    return cong, tru, nhan, chia #kiểu trả về tuple ...,...,\n",
    "\n",
    "def tinh2(a: int, b:float) -> None:\n",
    "    cong = a + b\n",
    "    tru = a - b\n",
    "    nhan = a * b\n",
    "    chia = a / b\n",
    "    \n",
    "    print(cong)\n",
    "\n",
    "if __name__ == '__main__':\n",
    "#     x,y,z,t = tinh1(1,2)\n",
    "#     print(t)\n",
    "\n",
    "#     x = tinh2(1,2) #trả về 3 của print(cong)\n",
    "#     print(x) #trả về None\n",
    "#     print(print.__doc__)"
   ]
  },
  {
   "cell_type": "code",
   "execution_count": 33,
   "id": "0bbf7f8e",
   "metadata": {},
   "outputs": [
    {
     "data": {
      "text/plain": [
       "1"
      ]
     },
     "execution_count": 33,
     "metadata": {},
     "output_type": "execute_result"
    }
   ],
   "source": [
    "def add(a,b):\n",
    "    return a - b\n",
    "add(b=8, a=9) #truyền tham số bằng keyword không cần theo thứ tự"
   ]
  },
  {
   "cell_type": "code",
   "execution_count": 35,
   "id": "44a131e5",
   "metadata": {},
   "outputs": [
    {
     "data": {
      "text/plain": [
       "3"
      ]
     },
     "execution_count": 35,
     "metadata": {},
     "output_type": "execute_result"
    }
   ],
   "source": [
    "def add(a = 1, b = 2): #truyền mặc định\n",
    "    return a + b\n",
    "add(3) #truyền thiếu b sẽ lấy b mặc định"
   ]
  },
  {
   "cell_type": "markdown",
   "id": "93f38f43",
   "metadata": {},
   "source": [
    "<br><br><br>\n",
    "# LAMBDA FUNCTION (HÀM)"
   ]
  },
  {
   "cell_type": "code",
   "execution_count": null,
   "id": "8a28da68",
   "metadata": {},
   "outputs": [],
   "source": []
  },
  {
   "cell_type": "code",
   "execution_count": 42,
   "id": "935cb0e2",
   "metadata": {},
   "outputs": [
    {
     "name": "stdout",
     "output_type": "stream",
     "text": [
      "61\n",
      "7\n"
     ]
    }
   ],
   "source": [
    "def ham(x, y):\n",
    "    return x + y\n",
    "\n",
    "#đặt y để lưu trữ kết quả\n",
    "y = (lambda x: 12*x + 1)(5) #ngoặc đầu là tạo hàm, còn ngoặc 2 là truyền số vào hàm\n",
    "print(y)\n",
    "\n",
    "#ra kết quả nhưng chưa lưu trữ\n",
    "print((lambda a, b: a + b + 1 + ham(a,b))(1,2))"
   ]
  }
 ],
 "metadata": {
  "kernelspec": {
   "display_name": "Python 3 (ipykernel)",
   "language": "python",
   "name": "python3"
  },
  "language_info": {
   "codemirror_mode": {
    "name": "ipython",
    "version": 3
   },
   "file_extension": ".py",
   "mimetype": "text/x-python",
   "name": "python",
   "nbconvert_exporter": "python",
   "pygments_lexer": "ipython3",
   "version": "3.11.4"
  }
 },
 "nbformat": 4,
 "nbformat_minor": 5
}
