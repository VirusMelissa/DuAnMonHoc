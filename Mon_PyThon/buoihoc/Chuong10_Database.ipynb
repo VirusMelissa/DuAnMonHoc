{
 "cells": [
  {
   "cell_type": "code",
   "execution_count": 1,
   "id": "0cf55f56",
   "metadata": {},
   "outputs": [
    {
     "name": "stdout",
     "output_type": "stream",
     "text": [
      "Requirement already satisfied: pyodbc in c:\\users\\admin\\anaconda3\\lib\\site-packages (4.0.34)\n"
     ]
    }
   ],
   "source": [
    "!pip install pyodbc"
   ]
  },
  {
   "cell_type": "code",
   "execution_count": 2,
   "id": "7db5ffa2",
   "metadata": {},
   "outputs": [],
   "source": [
    "import pyodbc\n",
    "drive = 'SQL Server'\n",
    "server = 'ADMIN\\SQLEXPRESS'\n",
    "database = 'BikeStores'\n",
    "username = ''\n",
    "password = ''\n",
    "str_sql = 'DRIVER={0};SERVER={1};DATABASE={2};UID={3};PWD={4}'.format(drive,server,database,username,password)\n",
    "\n",
    "cnxn = pyodbc.connect(str_sql)\n",
    "cursor = cnxn.cursor()\n"
   ]
  },
  {
   "cell_type": "code",
   "execution_count": 3,
   "id": "5d34935b",
   "metadata": {},
   "outputs": [
    {
     "data": {
      "text/plain": [
       "pyodbc.Connection"
      ]
     },
     "execution_count": 3,
     "metadata": {},
     "output_type": "execute_result"
    }
   ],
   "source": [
    "type(cnxn)"
   ]
  },
  {
   "cell_type": "code",
   "execution_count": 4,
   "id": "408c3a7a",
   "metadata": {},
   "outputs": [
    {
     "data": {
      "text/plain": [
       "pyodbc.Cursor"
      ]
     },
     "execution_count": 4,
     "metadata": {},
     "output_type": "execute_result"
    }
   ],
   "source": [
    "type(cursor)"
   ]
  },
  {
   "cell_type": "code",
   "execution_count": 6,
   "id": "c35b3cf8",
   "metadata": {},
   "outputs": [
    {
     "name": "stdout",
     "output_type": "stream",
     "text": [
      "('Fabiola', 'Jackson', 'fabiola.jackson@bikes.shop', '(831) 555-5554')\n",
      "('Mireya', 'Copeland', 'mireya.copeland@bikes.shop', '(831) 555-5555')\n",
      "('Genna', 'Serrano', 'genna.serrano@bikes.shop', '(831) 555-5556')\n",
      "('Virgie', 'Wiggins', 'virgie.wiggins@bikes.shop', '(831) 555-5557')\n",
      "('Jannette', 'David', 'jannette.david@bikes.shop', '(516) 379-4444')\n",
      "('Marcelene', 'Boyer', 'marcelene.boyer@bikes.shop', '(516) 379-4445')\n",
      "('Venita', 'Daniel', 'venita.daniel@bikes.shop', '(516) 379-4446')\n",
      "('Kali', 'Vargas', 'kali.vargas@bikes.shop', '(972) 530-5555')\n",
      "('Layla', 'Terrell', 'layla.terrell@bikes.shop', '(972) 530-5556')\n",
      "('Bernardine', 'Houston', 'bernardine.houston@bikes.shop', '(972) 530-5557')\n"
     ]
    }
   ],
   "source": [
    "# Lưu dữ liệu theo kiểu hàng đợi khi khai triển sẽ không lấy lại dc dữ liệu đã ra\n",
    "query = \"\"\"SELECT first_name, last_name, email, phone\n",
    "            FROM sales.staffs\"\"\"\n",
    "cursor.execute(query)\n",
    "\n",
    "for row in cursor:\n",
    "    print(row)"
   ]
  },
  {
   "cell_type": "code",
   "execution_count": 8,
   "id": "da59cdcd",
   "metadata": {},
   "outputs": [
    {
     "data": {
      "text/plain": [
       "[('Fabiola', 'Jackson', 'fabiola.jackson@bikes.shop', '(831) 555-5554'),\n",
       " ('Mireya', 'Copeland', 'mireya.copeland@bikes.shop', '(831) 555-5555'),\n",
       " ('Genna', 'Serrano', 'genna.serrano@bikes.shop', '(831) 555-5556'),\n",
       " ('Virgie', 'Wiggins', 'virgie.wiggins@bikes.shop', '(831) 555-5557'),\n",
       " ('Jannette', 'David', 'jannette.david@bikes.shop', '(516) 379-4444'),\n",
       " ('Marcelene', 'Boyer', 'marcelene.boyer@bikes.shop', '(516) 379-4445'),\n",
       " ('Venita', 'Daniel', 'venita.daniel@bikes.shop', '(516) 379-4446'),\n",
       " ('Kali', 'Vargas', 'kali.vargas@bikes.shop', '(972) 530-5555'),\n",
       " ('Layla', 'Terrell', 'layla.terrell@bikes.shop', '(972) 530-5556'),\n",
       " ('Bernardine', 'Houston', 'bernardine.houston@bikes.shop', '(972) 530-5557')]"
      ]
     },
     "execution_count": 8,
     "metadata": {},
     "output_type": "execute_result"
    }
   ],
   "source": [
    "query = \"\"\"SELECT first_name, last_name, email, phone\n",
    "            FROM sales.staffs\"\"\"\n",
    "cursor.execute(query)\n",
    "\n",
    "list(cursor)"
   ]
  },
  {
   "cell_type": "code",
   "execution_count": 13,
   "id": "ab0c9774",
   "metadata": {},
   "outputs": [
    {
     "data": {
      "text/plain": [
       "<pyodbc.Cursor at 0x17396dac430>"
      ]
     },
     "execution_count": 13,
     "metadata": {},
     "output_type": "execute_result"
    }
   ],
   "source": [
    "query = \"\"\"SELECT first_name, last_name, email, phone\n",
    "            FROM sales.staffs\"\"\"\n",
    "cursor.execute(query)  "
   ]
  },
  {
   "cell_type": "code",
   "execution_count": 15,
   "id": "32aad04d",
   "metadata": {},
   "outputs": [
    {
     "data": {
      "text/plain": [
       "('Mireya', 'Copeland', 'mireya.copeland@bikes.shop', '(831) 555-5555')"
      ]
     },
     "execution_count": 15,
     "metadata": {},
     "output_type": "execute_result"
    }
   ],
   "source": [
    "cursor.fetchone() #lấy 1"
   ]
  },
  {
   "cell_type": "code",
   "execution_count": 16,
   "id": "0a8b4ee1",
   "metadata": {},
   "outputs": [
    {
     "data": {
      "text/plain": [
       "[('Genna', 'Serrano', 'genna.serrano@bikes.shop', '(831) 555-5556'),\n",
       " ('Virgie', 'Wiggins', 'virgie.wiggins@bikes.shop', '(831) 555-5557'),\n",
       " ('Jannette', 'David', 'jannette.david@bikes.shop', '(516) 379-4444'),\n",
       " ('Marcelene', 'Boyer', 'marcelene.boyer@bikes.shop', '(516) 379-4445'),\n",
       " ('Venita', 'Daniel', 'venita.daniel@bikes.shop', '(516) 379-4446'),\n",
       " ('Kali', 'Vargas', 'kali.vargas@bikes.shop', '(972) 530-5555'),\n",
       " ('Layla', 'Terrell', 'layla.terrell@bikes.shop', '(972) 530-5556'),\n",
       " ('Bernardine', 'Houston', 'bernardine.houston@bikes.shop', '(972) 530-5557')]"
      ]
     },
     "execution_count": 16,
     "metadata": {},
     "output_type": "execute_result"
    }
   ],
   "source": [
    "cursor.fetchall() #Lấy tất"
   ]
  },
  {
   "cell_type": "code",
   "execution_count": 17,
   "id": "fa328b8b",
   "metadata": {},
   "outputs": [
    {
     "ename": "ProgrammingError",
     "evalue": "('42S02', \"[42S02] [Microsoft][ODBC SQL Server Driver][SQL Server]Invalid object name 'nhan_vien'. (208) (SQLExecDirectW)\")",
     "output_type": "error",
     "traceback": [
      "\u001b[1;31m---------------------------------------------------------------------------\u001b[0m",
      "\u001b[1;31mProgrammingError\u001b[0m                          Traceback (most recent call last)",
      "Cell \u001b[1;32mIn[17], line 1\u001b[0m\n\u001b[1;32m----> 1\u001b[0m cursor\u001b[38;5;241m.\u001b[39mexecute(\u001b[38;5;124m\"\u001b[39m\u001b[38;5;124minsert into nhan_vien(id_nv, hoten, phone, mail, note) \u001b[39m\u001b[38;5;130;01m\\\u001b[39;00m\n\u001b[0;32m      2\u001b[0m \u001b[38;5;124m                values(\u001b[39m\u001b[38;5;124m'\u001b[39m\u001b[38;5;124m80266\u001b[39m\u001b[38;5;124m'\u001b[39m\u001b[38;5;124m, N\u001b[39m\u001b[38;5;124m'\u001b[39m\u001b[38;5;124mNguyên Thanh Nghị\u001b[39m\u001b[38;5;124m'\u001b[39m\u001b[38;5;124m, \u001b[39m\u001b[38;5;124m'\u001b[39m\u001b[38;5;124m0988888888\u001b[39m\u001b[38;5;124m'\u001b[39m\u001b[38;5;124m, \u001b[39m\u001b[38;5;124m'\u001b[39m\u001b[38;5;124mphucnguyen@gmail.com\u001b[39m\u001b[38;5;124m'\u001b[39m\u001b[38;5;124m, N\u001b[39m\u001b[38;5;124m'\u001b[39m\u001b[38;5;124mGiám đốc\u001b[39m\u001b[38;5;124m'\u001b[39m\u001b[38;5;124m)\u001b[39m\u001b[38;5;124m\"\u001b[39m)\n\u001b[0;32m      3\u001b[0m cursor\u001b[38;5;241m.\u001b[39mcommit()\n",
      "\u001b[1;31mProgrammingError\u001b[0m: ('42S02', \"[42S02] [Microsoft][ODBC SQL Server Driver][SQL Server]Invalid object name 'nhan_vien'. (208) (SQLExecDirectW)\")"
     ]
    }
   ],
   "source": [
    "cursor.execute(\"insert into nhan_vien(id_nv, hoten, phone, mail, note) \\\n",
    "                values('80266', N'Nguyên Thanh Nghị', '0988888888', 'phucnguyen@gmail.com', N'Giám đốc')\")\n",
    "cursor.commit()"
   ]
  },
  {
   "cell_type": "code",
   "execution_count": null,
   "id": "3216a308",
   "metadata": {},
   "outputs": [],
   "source": []
  },
  {
   "cell_type": "code",
   "execution_count": null,
   "id": "8c5ab373",
   "metadata": {},
   "outputs": [],
   "source": []
  },
  {
   "cell_type": "code",
   "execution_count": null,
   "id": "5da4b7f4",
   "metadata": {},
   "outputs": [],
   "source": []
  }
 ],
 "metadata": {
  "kernelspec": {
   "display_name": "Python 3 (ipykernel)",
   "language": "python",
   "name": "python3"
  },
  "language_info": {
   "codemirror_mode": {
    "name": "ipython",
    "version": 3
   },
   "file_extension": ".py",
   "mimetype": "text/x-python",
   "name": "python",
   "nbconvert_exporter": "python",
   "pygments_lexer": "ipython3",
   "version": "3.11.4"
  }
 },
 "nbformat": 4,
 "nbformat_minor": 5
}
