{
 "cells": [
  {
   "cell_type": "markdown",
   "id": "ada3daf8",
   "metadata": {},
   "source": [
    "<p style=\"color: red; font-size: 30px; text-align: center; font-weight: bold\">\n",
    "    Lambda\n",
    "</p>"
   ]
  },
  {
   "cell_type": "code",
   "execution_count": 10,
   "id": "6a9cc3bb",
   "metadata": {},
   "outputs": [
    {
     "name": "stdout",
     "output_type": "stream",
     "text": [
      "[3, 5, 7, 9, 11]\n",
      "[7, 9, 11, 13, 15]\n"
     ]
    }
   ],
   "source": [
    "def hamA(x=1 ,y=2):\n",
    "    return x + y\n",
    "\n",
    "kq = (lambda x, y: x + y)(7,9)\n",
    "\n",
    "ds = [2,4,6,8,10]\n",
    "# tạo ds_moi1 từ biến item đi qua từng phần tử trong ds và từng phần tử đó + 1\n",
    "ds_moi1 = [item + 1 for item in ds]\n",
    "print(ds_moi1)\n",
    "\n",
    "#hamA(x) = 2 vì x = 0 và y = 2\n",
    "ds_moi2 = [(lambda x: hamA(x) + 3)(item) for item in ds]\n",
    "print(ds_moi2)\n",
    "\n"
   ]
  },
  {
   "cell_type": "markdown",
   "id": "afae1d3d",
   "metadata": {},
   "source": [
    "<p style=\"color: red; font-size: 30px; text-align: center; font-weight: bold\">\n",
    "    Sắp xếp\n",
    "</p>"
   ]
  },
  {
   "cell_type": "code",
   "execution_count": 15,
   "id": "f0f0dbd4",
   "metadata": {},
   "outputs": [
    {
     "name": "stdout",
     "output_type": "stream",
     "text": [
      "[9, 8, 5, 3, 2, 1, -1, -5]\n",
      "[1, -2, -3, 5, -8, 9]\n"
     ]
    }
   ],
   "source": [
    "num1 = [2,8,9,3,5,1,-5,-1]\n",
    "\n",
    "# đổi dấu từ danh sách cũ sau đó sắp xếp tăng dần sẽ hiển thị danh sách cũ theo thứ tự giảm dần\n",
    "num_new1 = sorted(num1, key=lambda x: -x)\n",
    "\n",
    "print(num_new1)\n",
    "\n",
    "\n",
    "num2 = [-2,-8,9,-3,5,1]\n",
    "# tăng dần theo giá trị tuyệt đối\n",
    "num_new2 = sorted(num2, key=lambda x: abs(x))\n",
    "\n",
    "print(num_new2)"
   ]
  },
  {
   "cell_type": "markdown",
   "id": "af08291f",
   "metadata": {},
   "source": [
    "<p style=\"color: red; font-size: 30px; text-align: center; font-weight: bold\">\n",
    "    EXCEPTION (Ngoại lệ, tạo lỗi)\n",
    "</p>"
   ]
  },
  {
   "cell_type": "code",
   "execution_count": 20,
   "id": "cfb4c6a2",
   "metadata": {},
   "outputs": [
    {
     "name": "stdout",
     "output_type": "stream",
     "text": [
      "Nhập số tuổi của bạn: 12\n"
     ]
    },
    {
     "ename": "AssertionError",
     "evalue": "Lỗi: Tuổi dưới 18",
     "output_type": "error",
     "traceback": [
      "\u001b[1;31m---------------------------------------------------------------------------\u001b[0m",
      "\u001b[1;31mAssertionError\u001b[0m                            Traceback (most recent call last)",
      "Cell \u001b[1;32mIn[20], line 3\u001b[0m\n\u001b[0;32m      1\u001b[0m tuoi \u001b[38;5;241m=\u001b[39m \u001b[38;5;28mint\u001b[39m(\u001b[38;5;28minput\u001b[39m(\u001b[38;5;124m\"\u001b[39m\u001b[38;5;124mNhập số tuổi của bạn: \u001b[39m\u001b[38;5;124m\"\u001b[39m))\n\u001b[1;32m----> 3\u001b[0m \u001b[38;5;28;01massert\u001b[39;00m tuoi \u001b[38;5;241m>\u001b[39m \u001b[38;5;241m18\u001b[39m, \u001b[38;5;124m'\u001b[39m\u001b[38;5;124mLỗi: Tuổi dưới 18\u001b[39m\u001b[38;5;124m'\u001b[39m\n\u001b[0;32m      5\u001b[0m \u001b[38;5;28mprint\u001b[39m(\u001b[38;5;124m\"\u001b[39m\u001b[38;5;124mVào hệ thống thành công\u001b[39m\u001b[38;5;124m\"\u001b[39m)\n",
      "\u001b[1;31mAssertionError\u001b[0m: Lỗi: Tuổi dưới 18"
     ]
    }
   ],
   "source": [
    "tuoi = int(input(\"Nhập số tuổi của bạn: \"))\n",
    "\n",
    "# cài đặt thông báo lỗi tuổi bé hơn 18, đưa vào lỗi\n",
    "assert tuoi >= 18, 'Lỗi: Tuổi dưới 18'\n",
    "\n",
    "print(\"Vào hệ thống thành công\")\n",
    "    "
   ]
  },
  {
   "cell_type": "code",
   "execution_count": 24,
   "id": "6d1d3e73",
   "metadata": {},
   "outputs": [
    {
     "name": "stdout",
     "output_type": "stream",
     "text": [
      "Lỗi: list index out of range\n",
      "Chương trình vẫn không dừng\n"
     ]
    }
   ],
   "source": [
    "# Xử lý lỗi\n",
    "\n",
    "def hamA(i):\n",
    "    ds = [0,1,2,3,4,5]\n",
    "    print(ds[i])\n",
    "    \n",
    "try:\n",
    "    hamA(9)\n",
    "except Exception as e:\n",
    "    print(\"Lỗi:\",e)\n",
    "    \n",
    "print(\"Chương trình vẫn không dừng\")"
   ]
  },
  {
   "cell_type": "code",
   "execution_count": 31,
   "id": "772bb37a",
   "metadata": {},
   "outputs": [
    {
     "name": "stdout",
     "output_type": "stream",
     "text": [
      "Thông báo lỗi: list index out of range\n"
     ]
    }
   ],
   "source": [
    "def kiemtratuoi(tuoi):\n",
    "    assert tuoi >= 18, 'Lỗi: Tuổi dưới 18'\n",
    "    print(\"Vào hệ thống thành công\")\n",
    "\n",
    "# nếu nhiều hàm thì chỉ thông báo lỗi hàm đầu tiên, vì 1 cái đầu lỗi thì mấy cái khác không cần thiết\n",
    "try:\n",
    "    kiemtratuoi(12)\n",
    "    hamA(9)\n",
    "except Exception as a:\n",
    "    print(\"Thông báo lỗi:\", a)"
   ]
  },
  {
   "cell_type": "code",
   "execution_count": null,
   "id": "1aa3ba0b",
   "metadata": {},
   "outputs": [],
   "source": []
  },
  {
   "cell_type": "code",
   "execution_count": null,
   "id": "1712f668",
   "metadata": {},
   "outputs": [],
   "source": []
  },
  {
   "cell_type": "code",
   "execution_count": null,
   "id": "17e76bf1",
   "metadata": {},
   "outputs": [],
   "source": []
  },
  {
   "cell_type": "code",
   "execution_count": null,
   "id": "e69539cb",
   "metadata": {},
   "outputs": [],
   "source": []
  },
  {
   "cell_type": "code",
   "execution_count": null,
   "id": "060097be",
   "metadata": {},
   "outputs": [],
   "source": []
  }
 ],
 "metadata": {
  "kernelspec": {
   "display_name": "Python 3 (ipykernel)",
   "language": "python",
   "name": "python3"
  },
  "language_info": {
   "codemirror_mode": {
    "name": "ipython",
    "version": 3
   },
   "file_extension": ".py",
   "mimetype": "text/x-python",
   "name": "python",
   "nbconvert_exporter": "python",
   "pygments_lexer": "ipython3",
   "version": "3.11.4"
  }
 },
 "nbformat": 4,
 "nbformat_minor": 5
}
