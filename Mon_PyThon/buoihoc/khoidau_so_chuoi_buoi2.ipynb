{
 "cells": [
  {
   "cell_type": "markdown",
   "id": "5767476a",
   "metadata": {},
   "source": [
    "# Kiểu số"
   ]
  },
  {
   "cell_type": "code",
   "execution_count": 2,
   "id": "5e443677",
   "metadata": {},
   "outputs": [],
   "source": [
    "# Tạo thư viện\n",
    "import math as m\n",
    "import random as r"
   ]
  },
  {
   "cell_type": "code",
   "execution_count": null,
   "id": "e8dab3c6",
   "metadata": {},
   "outputs": [],
   "source": [
    "# Khai báo biến và hiển thị kiểu dữ liệu\n",
    "x = 10; y = 15.5\n",
    "print(type(x))"
   ]
  },
  {
   "cell_type": "code",
   "execution_count": null,
   "id": "2eb2e42a",
   "metadata": {},
   "outputs": [],
   "source": [
    "giatri = input(\"Vui lòng nhập vào giá trị biến z: \")"
   ]
  },
  {
   "cell_type": "code",
   "execution_count": null,
   "id": "6e2ae26f",
   "metadata": {},
   "outputs": [],
   "source": [
    "print(\"Giá trị biến x là: \",x,\", biến y là: \",y,\", biến z là: \",giatri)"
   ]
  },
  {
   "cell_type": "code",
   "execution_count": null,
   "id": "c2bae70e",
   "metadata": {},
   "outputs": [],
   "source": [
    "# chuyển đổi kiễu dữ liệu int thành float\n",
    "x2 = float(x)"
   ]
  },
  {
   "cell_type": "code",
   "execution_count": null,
   "id": "f4a26ef0",
   "metadata": {},
   "outputs": [],
   "source": [
    "x2"
   ]
  },
  {
   "cell_type": "code",
   "execution_count": 3,
   "id": "cc99a3fd",
   "metadata": {},
   "outputs": [
    {
     "data": {
      "text/plain": [
       "80"
      ]
     },
     "execution_count": 3,
     "metadata": {},
     "output_type": "execute_result"
    }
   ],
   "source": [
    "# tạo số ngẫu nhiên\n",
    "r.randrange(0,100,5)"
   ]
  },
  {
   "cell_type": "markdown",
   "id": "7c257846",
   "metadata": {},
   "source": [
    "# Kiểu chuỗi"
   ]
  },
  {
   "cell_type": "code",
   "execution_count": null,
   "id": "57a159e6",
   "metadata": {},
   "outputs": [],
   "source": [
    "string = \"Đại học Quốc gia, Khu phố 6, P. Linh Trung, Q. Thủ Đức, Tp. HCM\""
   ]
  },
  {
   "cell_type": "code",
   "execution_count": null,
   "id": "d18f5180",
   "metadata": {},
   "outputs": [],
   "source": [
    "string.split(\", \")"
   ]
  },
  {
   "cell_type": "code",
   "execution_count": null,
   "id": "eced905f",
   "metadata": {},
   "outputs": [],
   "source": [
    "print(string[0])"
   ]
  },
  {
   "cell_type": "code",
   "execution_count": null,
   "id": "566f5984",
   "metadata": {},
   "outputs": [],
   "source": [
    "print(string[2:10])"
   ]
  },
  {
   "cell_type": "code",
   "execution_count": null,
   "id": "95f8e4b4",
   "metadata": {},
   "outputs": [],
   "source": [
    "print(string[-20:-1])"
   ]
  },
  {
   "cell_type": "code",
   "execution_count": null,
   "id": "9dd4e2d0",
   "metadata": {},
   "outputs": [],
   "source": []
  },
  {
   "cell_type": "markdown",
   "id": "6ca9cd9d",
   "metadata": {},
   "source": [
    "# Kiểu list"
   ]
  },
  {
   "cell_type": "code",
   "execution_count": 1,
   "id": "ab0baa7a",
   "metadata": {},
   "outputs": [],
   "source": [
    "ds = [78,50,38,'C++',90,20,'C#',\"Python\"]"
   ]
  },
  {
   "cell_type": "code",
   "execution_count": 2,
   "id": "c38ab12e",
   "metadata": {},
   "outputs": [
    {
     "data": {
      "text/plain": [
       "[38, 'C++', 90, 20, 'C#', 'Python']"
      ]
     },
     "execution_count": 2,
     "metadata": {},
     "output_type": "execute_result"
    }
   ],
   "source": [
    "ds[2:8]"
   ]
  },
  {
   "cell_type": "code",
   "execution_count": 3,
   "id": "dd2a6329",
   "metadata": {},
   "outputs": [],
   "source": [
    "ds[4] = 100 #chuyển 90 thành 100"
   ]
  },
  {
   "cell_type": "code",
   "execution_count": 4,
   "id": "c902e111",
   "metadata": {},
   "outputs": [
    {
     "data": {
      "text/plain": [
       "[50, 38, 'C++', 100, 20, 'C#', 'Python']"
      ]
     },
     "execution_count": 4,
     "metadata": {},
     "output_type": "execute_result"
    }
   ],
   "source": [
    "del ds[0]; ds #xóa theo vị trí và ds.remove(\"50\") là xóa theo phần tử đầu tiên"
   ]
  },
  {
   "cell_type": "code",
   "execution_count": 9,
   "id": "ace23666",
   "metadata": {},
   "outputs": [],
   "source": [
    "ds.append(60) #thêm 1 phần tử vào ds"
   ]
  },
  {
   "cell_type": "code",
   "execution_count": 10,
   "id": "fb15884f",
   "metadata": {},
   "outputs": [],
   "source": [
    "ds.extend([1,2,3,'C++']) #thêm nhiều phần tử vào ds"
   ]
  },
  {
   "cell_type": "code",
   "execution_count": 5,
   "id": "cb818976",
   "metadata": {},
   "outputs": [
    {
     "data": {
      "text/plain": [
       "['H', 'ô', 'm', ' ', 'n', 'a', 'y', ' ', 'm', 'ư', 'a', ' ', 'n', 'h', 'ỏ']"
      ]
     },
     "execution_count": 5,
     "metadata": {},
     "output_type": "execute_result"
    }
   ],
   "source": [
    "list('Hôm nay mưa nhỏ') #chuyển chuỗi thành 1 danh sách"
   ]
  },
  {
   "cell_type": "code",
   "execution_count": 12,
   "id": "ae13ba4f",
   "metadata": {},
   "outputs": [
    {
     "data": {
      "text/plain": [
       "2"
      ]
     },
     "execution_count": 12,
     "metadata": {},
     "output_type": "execute_result"
    }
   ],
   "source": [
    "ds.count('C++') #đếm số phần tử xuất hiện và nếu là số thì count(50)"
   ]
  },
  {
   "cell_type": "code",
   "execution_count": 13,
   "id": "6d90813c",
   "metadata": {},
   "outputs": [
    {
     "data": {
      "text/plain": [
       "2"
      ]
     },
     "execution_count": 13,
     "metadata": {},
     "output_type": "execute_result"
    }
   ],
   "source": [
    "ds.index('C++') #trả về vị trí đầu tiên của phần tử trong danh sách"
   ]
  },
  {
   "cell_type": "code",
   "execution_count": 14,
   "id": "08625be1",
   "metadata": {},
   "outputs": [],
   "source": [
    "ds.insert(3, 99) #thêm phần tử 99 sau vị trí 3"
   ]
  },
  {
   "cell_type": "code",
   "execution_count": 15,
   "id": "a7ca7d2f",
   "metadata": {},
   "outputs": [
    {
     "data": {
      "text/plain": [
       "[50, 38, 'C++', 99, 100, 20, 'C#', 'Python', 60, 1, 2, 3, 'C++']"
      ]
     },
     "execution_count": 15,
     "metadata": {},
     "output_type": "execute_result"
    }
   ],
   "source": [
    "ds"
   ]
  },
  {
   "cell_type": "code",
   "execution_count": 16,
   "id": "8771ee30",
   "metadata": {},
   "outputs": [],
   "source": [
    "a = [1,2,3,4,5] #nếu sử dụng phép gán b = a thì a và b đều sử dụng chung 1 vùng nhớ khi a thay đổi thì b cũng vậy"
   ]
  },
  {
   "cell_type": "code",
   "execution_count": null,
   "id": "509d08c2",
   "metadata": {},
   "outputs": [],
   "source": [
    "b = a.copy() #copy giá trị a cho b"
   ]
  },
  {
   "cell_type": "code",
   "execution_count": 18,
   "id": "58f4e2e5",
   "metadata": {},
   "outputs": [
    {
     "data": {
      "text/plain": [
       "[1, 3, 4, 6, 8, 13, 20]"
      ]
     },
     "execution_count": 18,
     "metadata": {},
     "output_type": "execute_result"
    }
   ],
   "source": [
    "c = [3,6,8,4,20,13,1]; c.sort(); c #sort(key,reverse) và reverse = True là sắp xếp giảm và mặc định là false"
   ]
  },
  {
   "cell_type": "code",
   "execution_count": 19,
   "id": "6e2acb06",
   "metadata": {},
   "outputs": [
    {
     "data": {
      "text/plain": [
       "['Python', 'CShape', 'Java', 'C++', 'C', 'R']"
      ]
     },
     "execution_count": 19,
     "metadata": {},
     "output_type": "execute_result"
    }
   ],
   "source": [
    "d = ['Python','C','C++','Java','CShape','R']; d.sort(key=len,reverse=True);d"
   ]
  },
  {
   "cell_type": "code",
   "execution_count": 20,
   "id": "9f17d385",
   "metadata": {},
   "outputs": [
    {
     "data": {
      "text/plain": [
       "[1, -3, 4, 6, 8, -9]"
      ]
     },
     "execution_count": 20,
     "metadata": {},
     "output_type": "execute_result"
    }
   ],
   "source": [
    "e = [1,-9,4,8,-3,6]; e.sort(key=abs);e #sắp xếp theo giá trị tuyệt đối"
   ]
  },
  {
   "cell_type": "code",
   "execution_count": 21,
   "id": "efa5be09",
   "metadata": {},
   "outputs": [
    {
     "data": {
      "text/plain": [
       "[16, 36, 64, 81, 100]"
      ]
     },
     "execution_count": 21,
     "metadata": {},
     "output_type": "execute_result"
    }
   ],
   "source": [
    "import math as m;f = [100,36,64,81,16];f.sort(key=m.sqrt);f"
   ]
  },
  {
   "cell_type": "code",
   "execution_count": null,
   "id": "2e8b04de",
   "metadata": {},
   "outputs": [],
   "source": [
    "del ds #xóa ds"
   ]
  },
  {
   "cell_type": "code",
   "execution_count": null,
   "id": "bce1d669",
   "metadata": {},
   "outputs": [],
   "source": []
  },
  {
   "cell_type": "markdown",
   "id": "c6b47565",
   "metadata": {},
   "source": [
    "# Kiểu tuple"
   ]
  },
  {
   "cell_type": "code",
   "execution_count": 24,
   "id": "5c2cac71",
   "metadata": {},
   "outputs": [],
   "source": [
    "tup1 = (1,2,3,'a','b','c')"
   ]
  },
  {
   "cell_type": "code",
   "execution_count": 25,
   "id": "6ddc5bfe",
   "metadata": {},
   "outputs": [
    {
     "data": {
      "text/plain": [
       "'a'"
      ]
     },
     "execution_count": 25,
     "metadata": {},
     "output_type": "execute_result"
    }
   ],
   "source": [
    "tup1[3]"
   ]
  },
  {
   "cell_type": "code",
   "execution_count": 27,
   "id": "a901800c",
   "metadata": {},
   "outputs": [
    {
     "name": "stdout",
     "output_type": "stream",
     "text": [
      "<class 'tuple'>\n"
     ]
    }
   ],
   "source": [
    "tup2 = 'a','b','c','d'; #print(type(tup2)) vẫn là tup2"
   ]
  },
  {
   "cell_type": "code",
   "execution_count": 31,
   "id": "b6893c4b",
   "metadata": {},
   "outputs": [
    {
     "name": "stdout",
     "output_type": "stream",
     "text": [
      "<class 'tuple'>\n"
     ]
    }
   ],
   "source": [
    "tup3 = 'a', #print(type(tup3)) vẫn là tuple vì có dấu phẩy cuối"
   ]
  },
  {
   "cell_type": "code",
   "execution_count": null,
   "id": "6a54c848",
   "metadata": {},
   "outputs": [],
   "source": [
    "tup4 = 1, #vẫn là tuple"
   ]
  },
  {
   "cell_type": "code",
   "execution_count": 32,
   "id": "71457571",
   "metadata": {},
   "outputs": [
    {
     "data": {
      "text/plain": [
       "(1, 2, 3, 'a', 'b', 'c', 'a', 'b', 'c', 'd')"
      ]
     },
     "execution_count": 32,
     "metadata": {},
     "output_type": "execute_result"
    }
   ],
   "source": [
    "tup5 = tup1 + tup2; tup5 #gộp phần tử của 2 tup qua tup mới"
   ]
  },
  {
   "cell_type": "code",
   "execution_count": 33,
   "id": "af27f4cc",
   "metadata": {},
   "outputs": [
    {
     "data": {
      "text/plain": [
       "('a', 'b', 'c', 'd', 'a', 'b', 'c', 'd', 'a', 'b', 'c', 'd')"
      ]
     },
     "execution_count": 33,
     "metadata": {},
     "output_type": "execute_result"
    }
   ],
   "source": [
    "tup6 = tup2*3; tup6 #gấp sl phần tử của tup"
   ]
  },
  {
   "cell_type": "code",
   "execution_count": 37,
   "id": "b685e358",
   "metadata": {},
   "outputs": [
    {
     "data": {
      "text/plain": [
       "4"
      ]
     },
     "execution_count": 37,
     "metadata": {},
     "output_type": "execute_result"
    }
   ],
   "source": [
    "len(tup2) #hàm"
   ]
  },
  {
   "cell_type": "code",
   "execution_count": 36,
   "id": "24a5c47b",
   "metadata": {},
   "outputs": [
    {
     "data": {
      "text/plain": [
       "'d'"
      ]
     },
     "execution_count": 36,
     "metadata": {},
     "output_type": "execute_result"
    }
   ],
   "source": [
    "max(tup2) #hàm"
   ]
  },
  {
   "cell_type": "code",
   "execution_count": null,
   "id": "d34802dd",
   "metadata": {},
   "outputs": [],
   "source": [
    "#phương thức có mỗi count và index như list"
   ]
  },
  {
   "cell_type": "code",
   "execution_count": null,
   "id": "549f0d98",
   "metadata": {},
   "outputs": [],
   "source": []
  },
  {
   "cell_type": "markdown",
   "id": "590617f0",
   "metadata": {},
   "source": [
    "# Kiểu dictionary"
   ]
  },
  {
   "cell_type": "code",
   "execution_count": 41,
   "id": "a50659e0",
   "metadata": {},
   "outputs": [],
   "source": [
    "dict_tt = {\n",
    "    'TG' : 'Tiền Giang',\n",
    "    'LA' : 'Long An',\n",
    "    'ĐN' : 'Đồng Nai',\n",
    "    'BT' : 'Bình Thuận',\n",
    "    'VL' : 'Vĩnh Long',\n",
    "}"
   ]
  },
  {
   "cell_type": "code",
   "execution_count": 39,
   "id": "949a3d71",
   "metadata": {},
   "outputs": [
    {
     "data": {
      "text/plain": [
       "{'TG': 'Tiền Giang',\n",
       " 'LA': 'Long An',\n",
       " 'ĐN': 'Đồng Nai',\n",
       " 'BT': 'Bình Thuận',\n",
       " 'VL': 'Vĩnh Long'}"
      ]
     },
     "execution_count": 39,
     "metadata": {},
     "output_type": "execute_result"
    }
   ],
   "source": []
  },
  {
   "cell_type": "code",
   "execution_count": 44,
   "id": "e1868f4a",
   "metadata": {},
   "outputs": [
    {
     "data": {
      "text/plain": [
       "'Không có key'"
      ]
     },
     "execution_count": 44,
     "metadata": {},
     "output_type": "execute_result"
    }
   ],
   "source": [
    "dict_tt.get('AH','Không có key') #để xuất phần tử dựa vào key, nếu ko có thì xuất tb sau ,"
   ]
  },
  {
   "cell_type": "code",
   "execution_count": 46,
   "id": "7977539a",
   "metadata": {},
   "outputs": [
    {
     "data": {
      "text/plain": [
       "dict_items([('TG', 'Tiền Giang'), ('LA', 'Long An'), ('ĐN', 'Đồng Nai'), ('BT', 'Bình Thuận'), ('VL', 'Vĩnh Long')])"
      ]
     },
     "execution_count": 46,
     "metadata": {},
     "output_type": "execute_result"
    }
   ],
   "source": [
    "dict_tt.items() # xuất các phần tử (key,value) dưới dạng tuple"
   ]
  },
  {
   "cell_type": "code",
   "execution_count": 47,
   "id": "cce57b8b",
   "metadata": {},
   "outputs": [
    {
     "data": {
      "text/plain": [
       "dict_keys(['TG', 'LA', 'ĐN', 'BT', 'VL'])"
      ]
     },
     "execution_count": 47,
     "metadata": {},
     "output_type": "execute_result"
    }
   ],
   "source": [
    "dict_tt.keys() #xuất các key"
   ]
  },
  {
   "cell_type": "code",
   "execution_count": 48,
   "id": "5f109f44",
   "metadata": {},
   "outputs": [
    {
     "data": {
      "text/plain": [
       "dict_values(['Tiền Giang', 'Long An', 'Đồng Nai', 'Bình Thuận', 'Vĩnh Long'])"
      ]
     },
     "execution_count": 48,
     "metadata": {},
     "output_type": "execute_result"
    }
   ],
   "source": [
    "dict_tt.values() #xuất các value"
   ]
  },
  {
   "cell_type": "code",
   "execution_count": null,
   "id": "245e55f4",
   "metadata": {},
   "outputs": [],
   "source": []
  },
  {
   "cell_type": "markdown",
   "id": "0fe2c45e",
   "metadata": {},
   "source": [
    "# Kiểu tập hợp"
   ]
  },
  {
   "cell_type": "code",
   "execution_count": 49,
   "id": "299a246e",
   "metadata": {},
   "outputs": [],
   "source": [
    "a = {1,2,3,5,3} #không xuất 1 giá trị được vì không có key hoặc index chỉ xuất được tất cả giá trị (trùng chỉ lấy 1 lần)"
   ]
  },
  {
   "cell_type": "code",
   "execution_count": 51,
   "id": "6f954980",
   "metadata": {},
   "outputs": [
    {
     "data": {
      "text/plain": [
       "{1, 2, 3, 5}"
      ]
     },
     "execution_count": 51,
     "metadata": {},
     "output_type": "execute_result"
    }
   ],
   "source": [
    "a"
   ]
  },
  {
   "cell_type": "code",
   "execution_count": 50,
   "id": "bece952b",
   "metadata": {},
   "outputs": [
    {
     "data": {
      "text/plain": [
       "True"
      ]
     },
     "execution_count": 50,
     "metadata": {},
     "output_type": "execute_result"
    }
   ],
   "source": [
    "3 in a"
   ]
  },
  {
   "cell_type": "code",
   "execution_count": null,
   "id": "f5825ae0",
   "metadata": {},
   "outputs": [],
   "source": []
  },
  {
   "cell_type": "code",
   "execution_count": null,
   "id": "4b57a386",
   "metadata": {},
   "outputs": [],
   "source": []
  },
  {
   "cell_type": "code",
   "execution_count": null,
   "id": "d800296e",
   "metadata": {},
   "outputs": [],
   "source": []
  },
  {
   "cell_type": "code",
   "execution_count": null,
   "id": "9181f4ba",
   "metadata": {},
   "outputs": [],
   "source": []
  }
 ],
 "metadata": {
  "kernelspec": {
   "display_name": "Python 3 (ipykernel)",
   "language": "python",
   "name": "python3"
  },
  "language_info": {
   "codemirror_mode": {
    "name": "ipython",
    "version": 3
   },
   "file_extension": ".py",
   "mimetype": "text/x-python",
   "name": "python",
   "nbconvert_exporter": "python",
   "pygments_lexer": "ipython3",
   "version": "3.11.4"
  }
 },
 "nbformat": 4,
 "nbformat_minor": 5
}
