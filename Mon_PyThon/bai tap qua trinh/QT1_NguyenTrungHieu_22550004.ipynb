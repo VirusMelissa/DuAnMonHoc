{
 "cells": [
  {
   "cell_type": "code",
   "execution_count": 1,
   "id": "b5288e00",
   "metadata": {},
   "outputs": [
    {
     "data": {
      "text/html": [
       "\n",
       "<style>\n",
       ".rendered_html p \n",
       "{\n",
       "    font-size: 20px;\n",
       "}\n",
       "</style>\n"
      ],
      "text/plain": [
       "<IPython.core.display.HTML object>"
      ]
     },
     "execution_count": 1,
     "metadata": {},
     "output_type": "execute_result"
    }
   ],
   "source": [
    "from IPython.core.display import HTML\n",
    "HTML(\"\"\"\n",
    "<style>\n",
    ".rendered_html p \n",
    "{\n",
    "    font-size: 20px;\n",
    "}\n",
    "</style>\n",
    "\"\"\")"
   ]
  },
  {
   "cell_type": "markdown",
   "id": "97bcaf7c",
   "metadata": {},
   "source": [
    "# 1 Module Collections"
   ]
  },
  {
   "cell_type": "markdown",
   "id": "357485e0",
   "metadata": {},
   "source": [
    "Module collection trong Python được định nghĩa là một bộ chứa được sử dụng để lưu trữ các bộ sưu tập dữ liệu, ví dụ: list, dict, set và tuple,... Nó được giới thiệu để cải thiện các chức năng của bộ chứa bộ sưu tập tích hợp.\n",
    "\n",
    "Có nhiều loại Module collection khác nhau như sau:\n",
    "\n",
    "<span style=\"color:red;\">**Hàm namedtuple()**</span><br><br>\n",
    "Hàm python namedtuple() trả về một đối tượng giống như tuple với tên cho từng vị trí trong bộ dữ liệu. Nó được sử dụng để loại bỏ vấn đề ghi nhớ chỉ số của từng trường của một đối tượng bộ dữ liệu trong các bộ dữ liệu thông thường."
   ]
  },
  {
   "cell_type": "code",
   "execution_count": 2,
   "id": "afa9ef6f",
   "metadata": {},
   "outputs": [
    {
     "name": "stdout",
     "output_type": "stream",
     "text": [
      "('Hello', 28, 'bạn trong lớp liên thông nhé :D')\n"
     ]
    }
   ],
   "source": [
    "import collections as co\n",
    "test = ('Hello', 28, 'bạn trong lớp liên thông nhé :D')  \n",
    "print(test) "
   ]
  },
  {
   "cell_type": "markdown",
   "id": "d3d2b481",
   "metadata": {},
   "source": [
    "<span style=\"color:red;\">**OrderedDict()**</span><br><br>\n",
    "Python OrderedDict() tương tự như một đối tượng Dictionary trong đó các khóa duy trì thứ tự chèn. Nếu chúng ta cố gắng chèn khóa một lần nữa, giá trị trước đó sẽ bị ghi đè cho khóa đó."
   ]
  },
  {
   "cell_type": "code",
   "execution_count": 3,
   "id": "54a1bc3a",
   "metadata": {},
   "outputs": [
    {
     "name": "stdout",
     "output_type": "stream",
     "text": [
      "A 5\n",
      "C 30\n",
      "B 20\n",
      "D 25\n",
      "<class 'collections.OrderedDict'>\n"
     ]
    }
   ],
   "source": [
    "my_col1 = co.OrderedDict()  \n",
    "my_col1['A'] = 5 \n",
    "my_col1['C'] = 15 \n",
    "my_col1['B'] = 20 \n",
    "my_col1['D'] = 25 \n",
    "my_col1['C'] = 30 \n",
    "   \n",
    "for k, v in my_col1.items():  \n",
    "    print (k, v) \n",
    "print(type(my_col1))"
   ]
  },
  {
   "cell_type": "markdown",
   "id": "1c367fd1",
   "metadata": {},
   "source": [
    "<span style=\"color:red;\">**Hàm defaultdict()**</span><br><br>\n",
    "Python defaultdict() được định nghĩa là một đối tượng giống như dictionary. Nó là một lớp con của lớp dict. Nó cung cấp tất cả các phương thức được cung cấp bởi dictionary nhưng lấy đối số đầu tiên làm kiểu dữ liệu mặc định."
   ]
  },
  {
   "cell_type": "code",
   "execution_count": 4,
   "id": "df118635",
   "metadata": {},
   "outputs": [
    {
     "name": "stdout",
     "output_type": "stream",
     "text": [
      "0.0\n",
      "<class 'collections.defaultdict'>\n"
     ]
    }
   ],
   "source": [
    "my_col2 = co.defaultdict(float)\n",
    "my_col2['key1'] = 1\n",
    "my_col2['key2'] = 2\n",
    "print(my_col2['key3'])  # Output: 0 (giá trị mặc định đã được khởi tạo là 0)\n",
    "print(type(my_col2))"
   ]
  },
  {
   "cell_type": "markdown",
   "id": "2af55d2f",
   "metadata": {},
   "source": [
    "<span style=\"color:red;\">**Hàm Counter()**</span><br><br>\n",
    "Python Count() là một lớp con của đối tượng từ điển giúp đếm các đối tượng hashtable."
   ]
  },
  {
   "cell_type": "code",
   "execution_count": 5,
   "id": "06f927cb",
   "metadata": {},
   "outputs": [
    {
     "name": "stdout",
     "output_type": "stream",
     "text": [
      "Counter({1: 4, 2: 3, 3: 2, 4: 1})\n",
      "3\n",
      "<class 'list'>\n"
     ]
    }
   ],
   "source": [
    "from collections import Counter\n",
    "my_col3 = [1, 2, 3, 4, 1, 2, 3, 1, 2, 1]\n",
    "c = Counter(my_col3)\n",
    "print(c)  # Output: Counter({1: 4, 2: 3, 3: 2, 4: 1})\n",
    "print(c[2]) #gọi ra 1 phần tử để đếm\n",
    "print(type(my_col3))"
   ]
  },
  {
   "cell_type": "markdown",
   "id": "bd7afb85",
   "metadata": {},
   "source": [
    "<span style=\"color:red;\">**Hàm deque()**</span><br><br>\n",
    "Python Count() là một lớp con của đối tượng từ điển giúp đếm các đối tượng hashtable."
   ]
  },
  {
   "cell_type": "code",
   "execution_count": 6,
   "id": "a87ea27b",
   "metadata": {},
   "outputs": [
    {
     "name": "stdout",
     "output_type": "stream",
     "text": [
      "deque([])\n",
      "deque([1, 2, 3, 4])\n",
      "deque([0, 1, 2, 3, 4])\n",
      "deque([0, 1, 2, 3, 4, 5])\n",
      "deque([1, 2, 3, 4, 5])\n",
      "deque([1, 2, 3, 4])\n",
      "1\n",
      "4\n",
      "deque([4, 3, 2, 1])\n"
     ]
    }
   ],
   "source": [
    "from collections import deque\n",
    "\n",
    "# Tạo một deque rỗng\n",
    "d = deque()\n",
    "print(d)\n",
    "\n",
    "# Tạo một deque từ một danh sách\n",
    "d = deque([1, 2, 3, 4])\n",
    "print(d)\n",
    "\n",
    "# Thêm phần tử vào đầu deque\n",
    "d.appendleft(0)\n",
    "print(d)\n",
    "\n",
    "# Thêm phần tử vào cuối deque\n",
    "d.append(5)\n",
    "print(d)\n",
    "\n",
    "# Xóa phần tử ở đầu deque\n",
    "d.popleft()\n",
    "print(d)\n",
    "\n",
    "# Xóa phần tử ở cuối deque\n",
    "d.pop()\n",
    "print(d)\n",
    "\n",
    "# Truy cập phần tử trong deque\n",
    "print(d[0])\n",
    "print(d[-1])\n",
    "\n",
    "# Đảo ngược các phần tử trong deque\n",
    "d.reverse()\n",
    "print(d)"
   ]
  },
  {
   "cell_type": "markdown",
   "id": "c0f0d644",
   "metadata": {},
   "source": [
    "<br><br><br>\n",
    "# 2 Module Datetime"
   ]
  },
  {
   "cell_type": "markdown",
   "id": "ccbae56d",
   "metadata": {},
   "source": [
    "Mô đun Datetime trong Python cung cấp class để hoạt động với ngày tháng và thời gian. Những class này cung cấp một số hàm để xử lý với ngày tháng, thời gian và khoảng thời gian. Ngày tháng và datetime là một đối tượng trong Python, vì thế, khi bạn thao tác chúng, bạn thực sự thay đổi đối tượng, không phải chuỗi hay timestamp.\n",
    "\n",
    "Các lớp chính trong module datetime là: datetime, date, time, timedelta, và tzinfo.<br><br>\n",
    "Các phương thức quan trọng:\n",
    "<br><span style=\"color:red;\">**datetime.now()**</span>: Trả về đối tượng datetime hiện tại."
   ]
  },
  {
   "cell_type": "code",
   "execution_count": 7,
   "id": "855d7867",
   "metadata": {},
   "outputs": [
    {
     "name": "stdout",
     "output_type": "stream",
     "text": [
      "Thời gian hiện tại: 2023-09-18 11:49:55.922397\n"
     ]
    }
   ],
   "source": [
    "import datetime as dt\n",
    "# Lấy thời gian hiện tại\n",
    "current_time = dt.datetime.now()\n",
    "print(\"Thời gian hiện tại:\", current_time)"
   ]
  },
  {
   "cell_type": "markdown",
   "id": "92c92cf5",
   "metadata": {},
   "source": [
    "<span style=\"color:red;\">**datetime.strptime(date_string, format)**</span>: Chuyển đổi một chuỗi đại diện cho ngày tháng thành đối tượng datetime dựa trên định dạng đã chỉ định."
   ]
  },
  {
   "cell_type": "code",
   "execution_count": 8,
   "id": "ee56cf7b",
   "metadata": {},
   "outputs": [
    {
     "name": "stdout",
     "output_type": "stream",
     "text": [
      "Ngày được chuyển đổi: 2023-09-15 00:00:00\n"
     ]
    }
   ],
   "source": [
    "date_string = \"2023/09/15\"\n",
    "date = dt.datetime.strptime(date_string, \"%Y/%m/%d\")\n",
    "print(\"Ngày được chuyển đổi:\", date)"
   ]
  },
  {
   "cell_type": "markdown",
   "id": "30dd5ccd",
   "metadata": {},
   "source": [
    "<span style=\"color:red;\">**datetime.strftime(format)**</span>: Chuyển đổi đối tượng datetime thành một chuỗi biểu diễn ngày tháng theo định dạng đã chỉ định."
   ]
  },
  {
   "cell_type": "code",
   "execution_count": 9,
   "id": "313d5295",
   "metadata": {},
   "outputs": [
    {
     "name": "stdout",
     "output_type": "stream",
     "text": [
      "Ngày được định dạng: 15/09/2023\n"
     ]
    }
   ],
   "source": [
    "dinhdang_date = date.strftime(\"%d/%m/%Y\")\n",
    "print(\"Ngày được định dạng:\", dinhdang_date)"
   ]
  },
  {
   "cell_type": "markdown",
   "id": "4c873448",
   "metadata": {},
   "source": [
    "<span style=\"color:red;\">**datetime.timedelta(days, seconds, microseconds, milliseconds, minutes, hours, weeks)**</span>: Đại diện cho một khoảng thời gian."
   ]
  },
  {
   "cell_type": "code",
   "execution_count": 10,
   "id": "4be285f1",
   "metadata": {},
   "outputs": [
    {
     "name": "stdout",
     "output_type": "stream",
     "text": [
      "Tuần tới: 2023-09-25 11:49:55.922397\n"
     ]
    }
   ],
   "source": [
    "dudoan_tuonglai = dt.timedelta(days=7)\n",
    "next_week = current_time + dudoan_tuonglai\n",
    "print(\"Tuần tới:\", next_week)"
   ]
  },
  {
   "cell_type": "markdown",
   "id": "8c34225f",
   "metadata": {},
   "source": [
    "<br><br><br>\n",
    "# 3 Module Decimal"
   ]
  },
  {
   "cell_type": "markdown",
   "id": "131574ba",
   "metadata": {},
   "source": [
    "Decimal là một lớp trong module decimal, cung cấp hỗ trợ cho các phép tính chính xác với số thập phân.<br><br>\n",
    "Decimal được sử dụng để tránh sai số được liên quan đến số thập phân trong tính toán dấu phẩy động.<br><br>\n",
    "Các phương thức quan trọng:\n",
    "<br>Decimal(value): Tạo một đối tượng Decimal từ giá trị đã cho.\n",
    "<br><br>decimal1 + decimal2: Thực hiện phép cộng hai đối tượng Decimal.\n",
    "<br><br>decimal1 - decimal2: Thực hiện phép trừ hai đối tượng Decimal.\n",
    "<br><br>decimal1 * decimal2: Thực hiện phép nhân hai đối tượng Decimal.\n",
    "<br><br>decimal1 / decimal2: Thực hiện phép chia hai đối tượng Decimal\n"
   ]
  },
  {
   "cell_type": "code",
   "execution_count": 11,
   "id": "1bdba961",
   "metadata": {},
   "outputs": [
    {
     "name": "stdout",
     "output_type": "stream",
     "text": [
      "Tổng: 12.7\n",
      "Hiệu: 8.3\n",
      "Tích: 23.10\n",
      "Thương: 4.772727272727272727272727273\n"
     ]
    }
   ],
   "source": [
    "from decimal import Decimal\n",
    "\n",
    "# Tạo đối tượng Decimal\n",
    "decimal1 = Decimal('10.5')\n",
    "decimal2 = Decimal('2.2')\n",
    "\n",
    "# Thực hiện các phép tính với Decimal\n",
    "cong = decimal1 + decimal2\n",
    "tru = decimal1 - decimal2\n",
    "nhan = decimal1 * decimal2\n",
    "chia = decimal1 / decimal2\n",
    "\n",
    "print(\"Tổng:\", cong)\n",
    "print(\"Hiệu:\", tru)\n",
    "print(\"Tích:\", nhan)\n",
    "print(\"Thương:\", chia)"
   ]
  },
  {
   "cell_type": "markdown",
   "id": "ab57fdcb",
   "metadata": {},
   "source": [
    "<span style=\"color:red;\">**Còn nếu không dùng Decimal thì kết quả sẽ khác**</span>"
   ]
  },
  {
   "cell_type": "code",
   "execution_count": 12,
   "id": "ce9f4060",
   "metadata": {},
   "outputs": [
    {
     "name": "stdout",
     "output_type": "stream",
     "text": [
      "Tổng: 0.30000000000000004\n",
      "Hiệu: -0.1\n",
      "Tích: 0.020000000000000004\n",
      "Thương: 0.5\n"
     ]
    }
   ],
   "source": [
    "dec1 = 0.1\n",
    "dec2 = 0.2\n",
    "\n",
    "# Thực hiện các phép tính với phép tính thông thường\n",
    "cong1 = dec1 + dec2\n",
    "tru1 = dec1 - dec2\n",
    "nhan1 = dec1 * dec2\n",
    "chia1 = dec1 / dec2\n",
    "\n",
    "print(\"Tổng:\", cong1)\n",
    "print(\"Hiệu:\", tru1)\n",
    "print(\"Tích:\", nhan1)\n",
    "print(\"Thương:\", chia1)"
   ]
  },
  {
   "cell_type": "markdown",
   "id": "27206721",
   "metadata": {},
   "source": [
    "<span style=\"color:red;\">**Ngoài ra Module Decimal còn có thể sử dụng vài kiểu khác**</span>"
   ]
  },
  {
   "cell_type": "code",
   "execution_count": 13,
   "id": "810c3c68",
   "metadata": {},
   "outputs": [
    {
     "name": "stdout",
     "output_type": "stream",
     "text": [
      "8.324\n",
      "-832.4\n",
      "1.4142\n",
      "3.3010\n"
     ]
    }
   ],
   "source": [
    "from decimal import getcontext\n",
    "# cách lấy số dương và theo sau là 3 số thập phân tính từ cuối về đầu\n",
    "number1 = Decimal((0, (8, 3, 2, 4), -3))\n",
    "print(number1)\n",
    "\n",
    "# cách lấy số âm và theo sau là 1 số thập phân tính từ cuối về đầu\n",
    "number2 = Decimal((1, (8, 3, 2, 4), -1))\n",
    "print(number2)\n",
    "\n",
    "# Thiết lập số chữ số thập phân cho tính toán = độ chính xác là 4 số thập phân = càng tăng càng chính xác\n",
    "getcontext().prec = 5\n",
    "\n",
    "# dùng căn\n",
    "number3 = Decimal('2').sqrt()\n",
    "print(number3)\n",
    "\n",
    "#dùng logarithm cơ số 10\n",
    "number4 = Decimal('2000').log10()\n",
    "print(number4)"
   ]
  },
  {
   "cell_type": "markdown",
   "id": "feaed49d",
   "metadata": {},
   "source": [
    "<br><br><br>\n",
    "# 4 Module Fractions"
   ]
  },
  {
   "cell_type": "markdown",
   "id": "888b4f93",
   "metadata": {},
   "source": [
    "Fraction là một lớp trong module fractions, cung cấp hỗ trợ cho các phép tính chính xác với số phân số.<br><br>\n",
    "Fraction được sử dụng để tránh sai số liên quan đến tính toán phân số.<br><br>\n",
    "Các phương thức quan trọng:\n",
    "<br>Fraction(numerator, denominator): Tạo một đối tượng Fraction từ tử số (numerator) và mẫu số (denominator).\n",
    "<br><br>fraction1 + fraction2: Thực hiện phép cộng hai đối tượng Fraction.\n",
    "<br><br>fraction1 - fraction2: Thực hiện phép trừ hai đối tượng Fraction.\n",
    "<br><br>fraction1 * fraction2: Thực hiện phép nhân hai đối tượng Fraction.\n",
    "<br><br>fraction1 / fraction2: Thực hiện phép chia hai đối tượng Fraction."
   ]
  },
  {
   "cell_type": "code",
   "execution_count": 14,
   "id": "548a6fc9",
   "metadata": {},
   "outputs": [
    {
     "name": "stdout",
     "output_type": "stream",
     "text": [
      "Tổng: 5/4\n",
      "Hiệu: 1/4\n",
      "Tích: 3/8\n",
      "Thương: 3/2\n"
     ]
    }
   ],
   "source": [
    "from fractions import Fraction\n",
    "\n",
    "# Tạo đối tượng Fraction\n",
    "fraction1 = Fraction(3, 4)\n",
    "fraction2 = Fraction(1, 2)\n",
    "\n",
    "# Thựchiện các phép tính với Fraction\n",
    "cong = fraction1 + fraction2\n",
    "tru = fraction1 - fraction2\n",
    "nhan = fraction1 * fraction2\n",
    "chia = fraction1 / fraction2\n",
    "\n",
    "print(\"Tổng:\", cong)\n",
    "print(\"Hiệu:\", tru)\n",
    "print(\"Tích:\", nhan)\n",
    "print(\"Thương:\", chia)"
   ]
  },
  {
   "cell_type": "markdown",
   "id": "7805e287",
   "metadata": {},
   "source": [
    "**Bạn cũng có thể trả về tử số của một phân số nhất định trong giới hạn thấp nhất bằng cách sử dụng thuộc tính numerator và mẫu số bằng cách sử dụng thuộc tính denominator.**"
   ]
  },
  {
   "cell_type": "code",
   "execution_count": 15,
   "id": "89e6911c",
   "metadata": {},
   "outputs": [
    {
     "name": "stdout",
     "output_type": "stream",
     "text": [
      "5\n",
      "2\n"
     ]
    }
   ],
   "source": [
    "number1 = Fraction(125, 50).numerator #125/50 = 5/2\n",
    "print(number1)\n",
    "number2 = Fraction(125, 50).denominator\n",
    "print(number2)"
   ]
  },
  {
   "cell_type": "markdown",
   "id": "6694bf8a",
   "metadata": {},
   "source": [
    "**Bạn cũng có thể sử dụng mô-đun này với các hàm khác nhau trong mô-đun math để thực hiện các phép tính dựa trên phân số.**"
   ]
  },
  {
   "cell_type": "code",
   "execution_count": 16,
   "id": "673b395f",
   "metadata": {},
   "outputs": [
    {
     "name": "stdout",
     "output_type": "stream",
     "text": [
      "2.5\n",
      "3.0550504633038935\n",
      "4\n",
      "2\n"
     ]
    }
   ],
   "source": [
    "import math\n",
    "from fractions import Fraction\n",
    "\n",
    "# căn\n",
    "number3 = math.sqrt(Fraction(25, 4))\n",
    "print(number3) \n",
    "number4 = math.sqrt(Fraction(28,3))\n",
    "print(number4)\n",
    "\n",
    "# Lấy số nguyên và bỏ phần thập phân floor\n",
    "num = math.floor(4.9)\n",
    "print(num)\n",
    "number5 = math.floor(Fraction(3558, 1213))\n",
    "print(number5)"
   ]
  },
  {
   "cell_type": "code",
   "execution_count": null,
   "id": "c39e8636",
   "metadata": {},
   "outputs": [],
   "source": []
  }
 ],
 "metadata": {
  "kernelspec": {
   "display_name": "Python 3 (ipykernel)",
   "language": "python",
   "name": "python3"
  },
  "language_info": {
   "codemirror_mode": {
    "name": "ipython",
    "version": 3
   },
   "file_extension": ".py",
   "mimetype": "text/x-python",
   "name": "python",
   "nbconvert_exporter": "python",
   "pygments_lexer": "ipython3",
   "version": "3.11.4"
  }
 },
 "nbformat": 4,
 "nbformat_minor": 5
}
